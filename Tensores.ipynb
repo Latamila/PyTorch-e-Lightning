{
  "cells": [
    {
      "cell_type": "markdown",
      "metadata": {
        "id": "view-in-github",
        "colab_type": "text"
      },
      "source": [
        "<a href=\"https://colab.research.google.com/github/Latamila/PyTorch-e-Lightning/blob/main/Tensores.ipynb\" target=\"_parent\"><img src=\"https://colab.research.google.com/assets/colab-badge.svg\" alt=\"Open In Colab\"/></a>"
      ]
    },
    {
      "cell_type": "code",
      "execution_count": 1,
      "metadata": {
        "colab": {
          "base_uri": "https://localhost:8080/"
        },
        "id": "2keOsgs-1BGk",
        "outputId": "e73cb5a2-0a74-4634-fa54-f76f4a1b54a6"
      },
      "outputs": [
        {
          "output_type": "stream",
          "name": "stdout",
          "text": [
            "Versão da Linguagem Python Usada Neste Jupyter Notebook: 3.10.12\n"
          ]
        }
      ],
      "source": [
        "from platform import python_version\n",
        "print('Versão da Linguagem Python Usada Neste Jupyter Notebook:', python_version())"
      ]
    },
    {
      "cell_type": "code",
      "execution_count": 2,
      "metadata": {
        "id": "543tuF-M1EIt"
      },
      "outputs": [],
      "source": [
        "!pip install -q -U watermark\n"
      ]
    },
    {
      "cell_type": "code",
      "execution_count": 3,
      "metadata": {
        "id": "bEoE9gaU1I-E"
      },
      "outputs": [],
      "source": [
        "!pip install -q torch"
      ]
    },
    {
      "cell_type": "code",
      "execution_count": 4,
      "metadata": {
        "id": "30Y_dAwd1LIM"
      },
      "outputs": [],
      "source": [
        "!pip install -q pytorch-lightning"
      ]
    },
    {
      "cell_type": "code",
      "source": [
        "!pip install torchvision"
      ],
      "metadata": {
        "colab": {
          "base_uri": "https://localhost:8080/"
        },
        "id": "6e4TWKXRh0kz",
        "outputId": "234301d9-ac33-4461-8751-5f467df31209"
      },
      "execution_count": 1,
      "outputs": [
        {
          "output_type": "stream",
          "name": "stdout",
          "text": [
            "Requirement already satisfied: torchvision in /usr/local/lib/python3.10/dist-packages (0.16.0+cu121)\n",
            "Requirement already satisfied: numpy in /usr/local/lib/python3.10/dist-packages (from torchvision) (1.23.5)\n",
            "Requirement already satisfied: requests in /usr/local/lib/python3.10/dist-packages (from torchvision) (2.31.0)\n",
            "Collecting torch==2.1.0 (from torchvision)\n",
            "  Downloading torch-2.1.0-cp310-cp310-manylinux1_x86_64.whl (670.2 MB)\n",
            "\u001b[2K     \u001b[90m━━━━━━━━━━━━━━━━━━━━━━━━━━━━━━━━━━━━━━━━\u001b[0m \u001b[32m670.2/670.2 MB\u001b[0m \u001b[31m1.1 MB/s\u001b[0m eta \u001b[36m0:00:00\u001b[0m\n",
            "\u001b[?25hRequirement already satisfied: pillow!=8.3.*,>=5.3.0 in /usr/local/lib/python3.10/dist-packages (from torchvision) (9.4.0)\n",
            "Requirement already satisfied: filelock in /usr/local/lib/python3.10/dist-packages (from torch==2.1.0->torchvision) (3.13.1)\n",
            "Requirement already satisfied: typing-extensions in /usr/local/lib/python3.10/dist-packages (from torch==2.1.0->torchvision) (4.5.0)\n",
            "Requirement already satisfied: sympy in /usr/local/lib/python3.10/dist-packages (from torch==2.1.0->torchvision) (1.12)\n",
            "Requirement already satisfied: networkx in /usr/local/lib/python3.10/dist-packages (from torch==2.1.0->torchvision) (3.2.1)\n",
            "Requirement already satisfied: jinja2 in /usr/local/lib/python3.10/dist-packages (from torch==2.1.0->torchvision) (3.1.3)\n",
            "Requirement already satisfied: fsspec in /usr/local/lib/python3.10/dist-packages (from torch==2.1.0->torchvision) (2023.6.0)\n",
            "Collecting nvidia-cuda-nvrtc-cu12==12.1.105 (from torch==2.1.0->torchvision)\n",
            "  Downloading nvidia_cuda_nvrtc_cu12-12.1.105-py3-none-manylinux1_x86_64.whl (23.7 MB)\n",
            "\u001b[2K     \u001b[90m━━━━━━━━━━━━━━━━━━━━━━━━━━━━━━━━━━━━━━━━\u001b[0m \u001b[32m23.7/23.7 MB\u001b[0m \u001b[31m50.8 MB/s\u001b[0m eta \u001b[36m0:00:00\u001b[0m\n",
            "\u001b[?25hCollecting nvidia-cuda-runtime-cu12==12.1.105 (from torch==2.1.0->torchvision)\n",
            "  Downloading nvidia_cuda_runtime_cu12-12.1.105-py3-none-manylinux1_x86_64.whl (823 kB)\n",
            "\u001b[2K     \u001b[90m━━━━━━━━━━━━━━━━━━━━━━━━━━━━━━━━━━━━━━━━\u001b[0m \u001b[32m823.6/823.6 kB\u001b[0m \u001b[31m47.3 MB/s\u001b[0m eta \u001b[36m0:00:00\u001b[0m\n",
            "\u001b[?25hCollecting nvidia-cuda-cupti-cu12==12.1.105 (from torch==2.1.0->torchvision)\n",
            "  Downloading nvidia_cuda_cupti_cu12-12.1.105-py3-none-manylinux1_x86_64.whl (14.1 MB)\n",
            "\u001b[2K     \u001b[90m━━━━━━━━━━━━━━━━━━━━━━━━━━━━━━━━━━━━━━━━\u001b[0m \u001b[32m14.1/14.1 MB\u001b[0m \u001b[31m68.7 MB/s\u001b[0m eta \u001b[36m0:00:00\u001b[0m\n",
            "\u001b[?25hCollecting nvidia-cudnn-cu12==8.9.2.26 (from torch==2.1.0->torchvision)\n",
            "  Downloading nvidia_cudnn_cu12-8.9.2.26-py3-none-manylinux1_x86_64.whl (731.7 MB)\n",
            "\u001b[2K     \u001b[90m━━━━━━━━━━━━━━━━━━━━━━━━━━━━━━━━━━━━━━━━\u001b[0m \u001b[32m731.7/731.7 MB\u001b[0m \u001b[31m1.7 MB/s\u001b[0m eta \u001b[36m0:00:00\u001b[0m\n",
            "\u001b[?25hCollecting nvidia-cublas-cu12==12.1.3.1 (from torch==2.1.0->torchvision)\n",
            "  Downloading nvidia_cublas_cu12-12.1.3.1-py3-none-manylinux1_x86_64.whl (410.6 MB)\n",
            "\u001b[2K     \u001b[90m━━━━━━━━━━━━━━━━━━━━━━━━━━━━━━━━━━━━━━━━\u001b[0m \u001b[32m410.6/410.6 MB\u001b[0m \u001b[31m3.0 MB/s\u001b[0m eta \u001b[36m0:00:00\u001b[0m\n",
            "\u001b[?25hCollecting nvidia-cufft-cu12==11.0.2.54 (from torch==2.1.0->torchvision)\n",
            "  Downloading nvidia_cufft_cu12-11.0.2.54-py3-none-manylinux1_x86_64.whl (121.6 MB)\n",
            "\u001b[2K     \u001b[90m━━━━━━━━━━━━━━━━━━━━━━━━━━━━━━━━━━━━━━━━\u001b[0m \u001b[32m121.6/121.6 MB\u001b[0m \u001b[31m1.7 MB/s\u001b[0m eta \u001b[36m0:00:00\u001b[0m\n",
            "\u001b[?25hCollecting nvidia-curand-cu12==10.3.2.106 (from torch==2.1.0->torchvision)\n",
            "  Downloading nvidia_curand_cu12-10.3.2.106-py3-none-manylinux1_x86_64.whl (56.5 MB)\n",
            "\u001b[2K     \u001b[90m━━━━━━━━━━━━━━━━━━━━━━━━━━━━━━━━━━━━━━━━\u001b[0m \u001b[32m56.5/56.5 MB\u001b[0m \u001b[31m6.8 MB/s\u001b[0m eta \u001b[36m0:00:00\u001b[0m\n",
            "\u001b[?25hCollecting nvidia-cusolver-cu12==11.4.5.107 (from torch==2.1.0->torchvision)\n",
            "  Downloading nvidia_cusolver_cu12-11.4.5.107-py3-none-manylinux1_x86_64.whl (124.2 MB)\n",
            "\u001b[2K     \u001b[90m━━━━━━━━━━━━━━━━━━━━━━━━━━━━━━━━━━━━━━━━\u001b[0m \u001b[32m124.2/124.2 MB\u001b[0m \u001b[31m6.2 MB/s\u001b[0m eta \u001b[36m0:00:00\u001b[0m\n",
            "\u001b[?25hCollecting nvidia-cusparse-cu12==12.1.0.106 (from torch==2.1.0->torchvision)\n",
            "  Downloading nvidia_cusparse_cu12-12.1.0.106-py3-none-manylinux1_x86_64.whl (196.0 MB)\n",
            "\u001b[2K     \u001b[90m━━━━━━━━━━━━━━━━━━━━━━━━━━━━━━━━━━━━━━━━\u001b[0m \u001b[32m196.0/196.0 MB\u001b[0m \u001b[31m2.8 MB/s\u001b[0m eta \u001b[36m0:00:00\u001b[0m\n",
            "\u001b[?25hCollecting nvidia-nccl-cu12==2.18.1 (from torch==2.1.0->torchvision)\n",
            "  Downloading nvidia_nccl_cu12-2.18.1-py3-none-manylinux1_x86_64.whl (209.8 MB)\n",
            "\u001b[2K     \u001b[90m━━━━━━━━━━━━━━━━━━━━━━━━━━━━━━━━━━━━━━━━\u001b[0m \u001b[32m209.8/209.8 MB\u001b[0m \u001b[31m5.2 MB/s\u001b[0m eta \u001b[36m0:00:00\u001b[0m\n",
            "\u001b[?25hCollecting nvidia-nvtx-cu12==12.1.105 (from torch==2.1.0->torchvision)\n",
            "  Downloading nvidia_nvtx_cu12-12.1.105-py3-none-manylinux1_x86_64.whl (99 kB)\n",
            "\u001b[2K     \u001b[90m━━━━━━━━━━━━━━━━━━━━━━━━━━━━━━━━━━━━━━━━\u001b[0m \u001b[32m99.1/99.1 kB\u001b[0m \u001b[31m11.3 MB/s\u001b[0m eta \u001b[36m0:00:00\u001b[0m\n",
            "\u001b[?25hRequirement already satisfied: triton==2.1.0 in /usr/local/lib/python3.10/dist-packages (from torch==2.1.0->torchvision) (2.1.0)\n",
            "Collecting nvidia-nvjitlink-cu12 (from nvidia-cusolver-cu12==11.4.5.107->torch==2.1.0->torchvision)\n",
            "  Downloading nvidia_nvjitlink_cu12-12.3.101-py3-none-manylinux1_x86_64.whl (20.5 MB)\n",
            "\u001b[2K     \u001b[90m━━━━━━━━━━━━━━━━━━━━━━━━━━━━━━━━━━━━━━━━\u001b[0m \u001b[32m20.5/20.5 MB\u001b[0m \u001b[31m61.3 MB/s\u001b[0m eta \u001b[36m0:00:00\u001b[0m\n",
            "\u001b[?25hRequirement already satisfied: charset-normalizer<4,>=2 in /usr/local/lib/python3.10/dist-packages (from requests->torchvision) (3.3.2)\n",
            "Requirement already satisfied: idna<4,>=2.5 in /usr/local/lib/python3.10/dist-packages (from requests->torchvision) (3.6)\n",
            "Requirement already satisfied: urllib3<3,>=1.21.1 in /usr/local/lib/python3.10/dist-packages (from requests->torchvision) (2.0.7)\n",
            "Requirement already satisfied: certifi>=2017.4.17 in /usr/local/lib/python3.10/dist-packages (from requests->torchvision) (2023.11.17)\n",
            "Requirement already satisfied: MarkupSafe>=2.0 in /usr/local/lib/python3.10/dist-packages (from jinja2->torch==2.1.0->torchvision) (2.1.4)\n",
            "Requirement already satisfied: mpmath>=0.19 in /usr/local/lib/python3.10/dist-packages (from sympy->torch==2.1.0->torchvision) (1.3.0)\n",
            "Installing collected packages: nvidia-nvtx-cu12, nvidia-nvjitlink-cu12, nvidia-nccl-cu12, nvidia-curand-cu12, nvidia-cufft-cu12, nvidia-cuda-runtime-cu12, nvidia-cuda-nvrtc-cu12, nvidia-cuda-cupti-cu12, nvidia-cublas-cu12, nvidia-cusparse-cu12, nvidia-cudnn-cu12, nvidia-cusolver-cu12, torch\n",
            "  Attempting uninstall: torch\n",
            "    Found existing installation: torch 1.13.0\n",
            "    Uninstalling torch-1.13.0:\n",
            "      Successfully uninstalled torch-1.13.0\n",
            "Successfully installed nvidia-cublas-cu12-12.1.3.1 nvidia-cuda-cupti-cu12-12.1.105 nvidia-cuda-nvrtc-cu12-12.1.105 nvidia-cuda-runtime-cu12-12.1.105 nvidia-cudnn-cu12-8.9.2.26 nvidia-cufft-cu12-11.0.2.54 nvidia-curand-cu12-10.3.2.106 nvidia-cusolver-cu12-11.4.5.107 nvidia-cusparse-cu12-12.1.0.106 nvidia-nccl-cu12-2.18.1 nvidia-nvjitlink-cu12-12.3.101 nvidia-nvtx-cu12-12.1.105 torch-2.1.0\n"
          ]
        }
      ]
    },
    {
      "cell_type": "code",
      "execution_count": 5,
      "metadata": {
        "id": "kVQ0vsRh1P0Z"
      },
      "outputs": [],
      "source": [
        "# Imports\n",
        "import numpy as np\n",
        "import torch\n",
        "import gc\n",
        "import types\n",
        "import pkg_resources\n",
        "import pytorch_lightning as pl\n",
        "%matplotlib inline"
      ]
    },
    {
      "cell_type": "code",
      "execution_count": 6,
      "metadata": {
        "id": "np3_SVZW1RF5",
        "colab": {
          "base_uri": "https://localhost:8080/"
        },
        "outputId": "996f42ba-d518-463c-aeff-580780819737"
      },
      "outputs": [
        {
          "output_type": "stream",
          "name": "stdout",
          "text": [
            "Author: Data Science Academy\n",
            "\n",
            "pytorch_lightning: 1.8.3\n",
            "numpy            : 1.23.5\n",
            "torch            : 2.1.0\n",
            "\n"
          ]
        }
      ],
      "source": [
        "# Versões dos pacotes usados neste jupyter notebook\n",
        "%reload_ext watermark\n",
        "%watermark -a \"Data Science Academy\" --iversions"
      ]
    },
    {
      "cell_type": "code",
      "execution_count": 7,
      "metadata": {
        "id": "8Ia3T5Nr1jFh",
        "colab": {
          "base_uri": "https://localhost:8080/"
        },
        "outputId": "9ad5814b-05dd-4a5d-860c-fba0a8c6abc9"
      },
      "outputs": [
        {
          "output_type": "stream",
          "name": "stdout",
          "text": [
            "--------------------------------------Visão Geral do Ambiente---------------------------------------\n",
            "\n",
            "Pasta de Dados:  dados\n",
            "Versões dos Pacotes Requeridos:  [('numpy', '1.23.5'), ('torch', '1.13.0')]\n",
            "Dispositivo Que Será Usado Para Treinar o Modelo:  cpu\n",
            "CUDA Está Disponível?  False\n",
            "Versão do PyTorch:  2.1.0+cu121\n",
            "Versão do Lightning:  1.8.3\n",
            "\n",
            "------------------Se NVIDIA-SMI não for encontrado, então CUDA não está disponível------------------\n",
            "\n",
            "/bin/bash: line 1: nvidia-smi: command not found\n",
            "\n",
            "Limpando a Memória da GPU (se disponível):  None\n",
            "\n",
            "------------------------------------------Fim da Checagem-------------------------------------------\n"
          ]
        }
      ],
      "source": [
        "# Relatório completo\n",
        "\n",
        "# Verificando o dispositivo\n",
        "processing_device = \"cuda\" if torch.cuda.is_available() else \"cpu\"\n",
        "\n",
        "# Verificando se GPU pode ser usada (isso depende da plataforma CUDA estar instalada)\n",
        "torch_aval = torch.cuda.is_available()\n",
        "\n",
        "# Labels para o relatório de verificação\n",
        "lable_1 = 'Visão Geral do Ambiente'\n",
        "lable_2 = 'Se NVIDIA-SMI não for encontrado, então CUDA não está disponível'\n",
        "lable_3 = 'Fim da Checagem'\n",
        "\n",
        "# Função para verificar o que está importado nesta sessão\n",
        "def get_imports():\n",
        "\n",
        "    for name, val in globals().items():\n",
        "        if isinstance(val, types.ModuleType):\n",
        "            name = val.__name__.split(\".\")[0]\n",
        "\n",
        "        elif isinstance(val, type):\n",
        "            name = val.__module__.split(\".\")[0]\n",
        "\n",
        "        poorly_named_packages = {\"PIL\": \"Pillow\", \"sklearn\": \"scikit-learn\"}\n",
        "\n",
        "        if name in poorly_named_packages.keys():\n",
        "            name = poorly_named_packages[name]\n",
        "\n",
        "        yield name\n",
        "\n",
        "# Imports nesta sessão\n",
        "imports = list(set(get_imports()))\n",
        "\n",
        "# Loop para verificar os requerimentos\n",
        "requirements = []\n",
        "for m in pkg_resources.working_set:\n",
        "    if m.project_name in imports and m.project_name!=\"pip\":\n",
        "        requirements.append((m.project_name, m.version))\n",
        "\n",
        "# Pasta com os dados (quando necessário)\n",
        "pasta_dados = r'dados'\n",
        "\n",
        "print(f'{lable_1:-^100}')\n",
        "print()\n",
        "print(f\"Pasta de Dados: \", pasta_dados)\n",
        "print(f\"Versões dos Pacotes Requeridos: \", requirements)\n",
        "print(f\"Dispositivo Que Será Usado Para Treinar o Modelo: \", processing_device)\n",
        "print(f\"CUDA Está Disponível? \", torch_aval)\n",
        "print(\"Versão do PyTorch: \", torch.__version__)\n",
        "print(\"Versão do Lightning: \", pl.__version__)\n",
        "print()\n",
        "print(f'{lable_2:-^100}\\n')\n",
        "!nvidia-smi\n",
        "gc.collect()\n",
        "print()\n",
        "print(f\"Limpando a Memória da GPU (se disponível): \", torch.cuda.empty_cache())\n",
        "print(f'\\n{lable_3:-^100}')"
      ]
    },
    {
      "cell_type": "code",
      "execution_count": 8,
      "metadata": {
        "id": "9C-4S6i-2tmp",
        "colab": {
          "base_uri": "https://localhost:8080/"
        },
        "outputId": "a89c5d43-f3aa-4b40-b360-9437b0108d0b"
      },
      "outputs": [
        {
          "output_type": "stream",
          "name": "stdout",
          "text": [
            "tensor([[1., 2., 3.],\n",
            "        [4., 5., 6.]])\n"
          ]
        }
      ],
      "source": [
        "#cria um tensor 2x3 a partir de uma lista python\n",
        "lista_python = [[1,2,3],[4,5,6]]\n",
        "t1 = torch.Tensor(lista_python)\n",
        "print(t1)"
      ]
    },
    {
      "cell_type": "code",
      "execution_count": 9,
      "metadata": {
        "id": "daBwCqj6srjl",
        "colab": {
          "base_uri": "https://localhost:8080/"
        },
        "outputId": "f2de7ee8-6336-48a4-81b2-f337223faef3"
      },
      "outputs": [
        {
          "output_type": "execute_result",
          "data": {
            "text/plain": [
              "list"
            ]
          },
          "metadata": {},
          "execution_count": 9
        }
      ],
      "source": [
        "type(lista_python)\n"
      ]
    },
    {
      "cell_type": "code",
      "execution_count": 10,
      "metadata": {
        "id": "6OdmlB5isujX",
        "colab": {
          "base_uri": "https://localhost:8080/"
        },
        "outputId": "03a6f552-0cd8-40a5-a5a7-3decdfdf6801"
      },
      "outputs": [
        {
          "output_type": "execute_result",
          "data": {
            "text/plain": [
              "torch.Tensor"
            ]
          },
          "metadata": {},
          "execution_count": 10
        }
      ],
      "source": [
        "type(t1)"
      ]
    },
    {
      "cell_type": "code",
      "execution_count": 11,
      "metadata": {
        "id": "o_qcyFysswV5",
        "colab": {
          "base_uri": "https://localhost:8080/"
        },
        "outputId": "ebeb7ae4-805b-4236-85de-6906bee2bc04"
      },
      "outputs": [
        {
          "output_type": "stream",
          "name": "stdout",
          "text": [
            "tensor([[9., 6., 1.],\n",
            "        [5., 3., 2.]])\n"
          ]
        }
      ],
      "source": [
        "#cria um tensor 2x3  a partir de um array numpy\n",
        "array_numpy = np.array([[9,6,1],[5,3,2]])\n",
        "t2 = torch.Tensor(array_numpy)\n",
        "print(t2)"
      ]
    },
    {
      "cell_type": "code",
      "execution_count": 12,
      "metadata": {
        "id": "kGpG0HY9tDNq",
        "colab": {
          "base_uri": "https://localhost:8080/"
        },
        "outputId": "a360425c-0e31-4559-cf11-a75102fac42d"
      },
      "outputs": [
        {
          "output_type": "execute_result",
          "data": {
            "text/plain": [
              "numpy.ndarray"
            ]
          },
          "metadata": {},
          "execution_count": 12
        }
      ],
      "source": [
        "type(array_numpy)"
      ]
    },
    {
      "cell_type": "code",
      "execution_count": 13,
      "metadata": {
        "id": "WC_L0kbgtFwz",
        "colab": {
          "base_uri": "https://localhost:8080/"
        },
        "outputId": "f42eeae6-012a-463e-f4bd-d473fb805696"
      },
      "outputs": [
        {
          "output_type": "execute_result",
          "data": {
            "text/plain": [
              "torch.Tensor"
            ]
          },
          "metadata": {},
          "execution_count": 13
        }
      ],
      "source": [
        "type(t2)"
      ]
    },
    {
      "cell_type": "code",
      "execution_count": 14,
      "metadata": {
        "id": "Yhuh6nEctKYm",
        "colab": {
          "base_uri": "https://localhost:8080/"
        },
        "outputId": "b31be944-1005-486e-da63-9bdf31d0b6d1"
      },
      "outputs": [
        {
          "output_type": "stream",
          "name": "stdout",
          "text": [
            "tensor --> lista python: \n",
            "[[1.0, 2.0, 3.0], [4.0, 5.0, 6.0]]\n",
            "tensor --> array numpy: \n",
            "[[9. 6. 1.]\n",
            " [5. 3. 2.]]\n"
          ]
        }
      ],
      "source": [
        "#convertendo de volta para lista/array\n",
        "print(f'tensor --> lista python: \\n{t1.tolist()}')\n",
        "print(f'tensor --> array numpy: \\n{t2.numpy()}')"
      ]
    },
    {
      "cell_type": "markdown",
      "metadata": {
        "id": "QdhJpnOZtVuY"
      },
      "source": [
        "#TIPOS DE TENSORES NO PYTORCH\n",
        "---\n"
      ]
    },
    {
      "cell_type": "code",
      "execution_count": 15,
      "metadata": {
        "id": "M8zPjU1ZtqNA",
        "colab": {
          "base_uri": "https://localhost:8080/"
        },
        "outputId": "4fbe8a1f-1862-47da-b2d9-e1d8e7ad82d2"
      },
      "outputs": [
        {
          "output_type": "stream",
          "name": "stdout",
          "text": [
            "tensor([[[0.6867, 0.6759, 0.7711],\n",
            "         [0.7557, 0.9753, 0.8718]],\n",
            "\n",
            "        [[0.9292, 0.2430, 0.1151],\n",
            "         [0.1823, 0.0983, 0.7480]]])\n"
          ]
        }
      ],
      "source": [
        "#cria um tensor 2x2x3 com valores randomicos\n",
        "\n",
        "a = torch.rand(2,2,3)\n",
        "print(a)"
      ]
    },
    {
      "cell_type": "code",
      "execution_count": 16,
      "metadata": {
        "id": "dcEXaW_vtx8Z",
        "colab": {
          "base_uri": "https://localhost:8080/"
        },
        "outputId": "d087f7b3-4376-46e1-c419-145707e0443b"
      },
      "outputs": [
        {
          "output_type": "stream",
          "name": "stdout",
          "text": [
            "tensor([[[0., 0., 0.],\n",
            "         [0., 0., 0.]],\n",
            "\n",
            "        [[0., 0., 0.],\n",
            "         [0., 0., 0.]]])\n"
          ]
        }
      ],
      "source": [
        "#cria um tensor preenchido com zeros\n",
        "b = torch.zeros(2,2,3)\n",
        "print(b)"
      ]
    },
    {
      "cell_type": "code",
      "execution_count": 17,
      "metadata": {
        "id": "ab7dUbCDt6OK",
        "colab": {
          "base_uri": "https://localhost:8080/"
        },
        "outputId": "9c09644c-f140-47dd-8592-5bfb362711e2"
      },
      "outputs": [
        {
          "output_type": "stream",
          "name": "stdout",
          "text": [
            "tensor([[[0., 0., 0.],\n",
            "         [0., 0., 0.]],\n",
            "\n",
            "        [[0., 0., 0.],\n",
            "         [0., 0., 0.]]])\n"
          ]
        }
      ],
      "source": [
        "c = torch.zeros_like(a)\n",
        "print(c)"
      ]
    },
    {
      "cell_type": "code",
      "execution_count": 18,
      "metadata": {
        "id": "G1wLv4J6uAH9",
        "colab": {
          "base_uri": "https://localhost:8080/"
        },
        "outputId": "4fab4212-b342-4032-d010-1b8ccd49f695"
      },
      "outputs": [
        {
          "output_type": "stream",
          "name": "stdout",
          "text": [
            "tensor([[[1., 1., 1.],\n",
            "         [1., 1., 1.]],\n",
            "\n",
            "        [[1., 1., 1.],\n",
            "         [1., 1., 1.]]])\n"
          ]
        }
      ],
      "source": [
        "#criando um tensor de 1's semelhante(like) ao tensor zeros\n",
        "d = torch.ones_like(a)\n",
        "print(d)"
      ]
    },
    {
      "cell_type": "code",
      "execution_count": 19,
      "metadata": {
        "id": "oZU8bsJWuKxO",
        "colab": {
          "base_uri": "https://localhost:8080/"
        },
        "outputId": "dd1bf86c-ee40-4e09-e44f-093fd393617a"
      },
      "outputs": [
        {
          "output_type": "execute_result",
          "data": {
            "text/plain": [
              "dtype('int64')"
            ]
          },
          "metadata": {},
          "execution_count": 19
        }
      ],
      "source": [
        "#criando um array numpy\n",
        "a = np.array([[9,6,1],[5,3,2]])\n",
        "a.dtype\n"
      ]
    },
    {
      "cell_type": "code",
      "execution_count": 20,
      "metadata": {
        "id": "du2lVyBEuU7z",
        "colab": {
          "base_uri": "https://localhost:8080/"
        },
        "outputId": "fd33e85e-ec8c-4667-88c3-9998ac6cafa1"
      },
      "outputs": [
        {
          "output_type": "stream",
          "name": "stdout",
          "text": [
            "b: torch.FloatTensor\n",
            " c: torch.FloatTensor\n",
            " d: torch.LongTensor\n"
          ]
        }
      ],
      "source": [
        "#criando tensores de diferentes tipos\n",
        "b = torch.Tensor(a)\n",
        "c = torch.FloatTensor(a)\n",
        "d = torch.LongTensor(a)\n",
        "print(f'b: {b.type()}\\n c: {c.type()}\\n d: {d.type()}')"
      ]
    },
    {
      "cell_type": "code",
      "execution_count": 21,
      "metadata": {
        "id": "93v6lgD_uw4h",
        "colab": {
          "base_uri": "https://localhost:8080/"
        },
        "outputId": "05c49afc-b3fb-4fa4-dd1d-be448f0bcef4"
      },
      "outputs": [
        {
          "output_type": "stream",
          "name": "stdout",
          "text": [
            "<class 'list'>\n",
            "True <class 'bool'>\n",
            "False <class 'bool'>\n",
            "False <class 'bool'>\n",
            "True <class 'bool'>\n"
          ]
        }
      ],
      "source": [
        "#criando uma lista python com valores booleanos\n",
        "e = [True, False, False, True]\n",
        "print(type(e))\n",
        "for item in e:\n",
        "    print('{} {}'.format(item, type(item)))"
      ]
    },
    {
      "cell_type": "code",
      "execution_count": 22,
      "metadata": {
        "id": "etUP3OfovHHs",
        "colab": {
          "base_uri": "https://localhost:8080/"
        },
        "outputId": "d9ea0875-4056-483b-ec0d-800a61d15aba"
      },
      "outputs": [
        {
          "output_type": "stream",
          "name": "stdout",
          "text": [
            "tensor([1., 0., 0., 1.])\n",
            "torch.FloatTensor\n"
          ]
        }
      ],
      "source": [
        "f = torch.Tensor(e)\n",
        "print(f)\n",
        "print(f.type())"
      ]
    },
    {
      "cell_type": "code",
      "execution_count": 23,
      "metadata": {
        "id": "vCtXQjK8vQ7k",
        "colab": {
          "base_uri": "https://localhost:8080/"
        },
        "outputId": "c9f611b0-5247-4705-b53b-c823acea53ab"
      },
      "outputs": [
        {
          "output_type": "stream",
          "name": "stdout",
          "text": [
            "tensor([False, False, False, False, False, False, False, False, False, False])\n",
            "torch.BoolTensor\n"
          ]
        }
      ],
      "source": [
        "#criando um tensor com valores booleanos\n",
        "g = torch.zeros(10, dtype = torch.bool)\n",
        "print(g)\n",
        "print(g.type())"
      ]
    },
    {
      "cell_type": "code",
      "execution_count": 24,
      "metadata": {
        "id": "IRJPxu3Jvd-m",
        "colab": {
          "base_uri": "https://localhost:8080/"
        },
        "outputId": "3d76f778-cc59-4f10-a3fb-969f2f9ca136"
      },
      "outputs": [
        {
          "output_type": "stream",
          "name": "stdout",
          "text": [
            "Mundando torch.FloatTensor para torch.LongTensor:\n",
            "\n",
            "torch.FloatTensor\n",
            "tensor([[9, 6, 1],\n",
            "        [5, 3, 2]])\n",
            "torch.LongTensor\n"
          ]
        }
      ],
      "source": [
        "#alternando o tipo de tensor\n",
        "print('Mundando torch.FloatTensor para torch.LongTensor:\\n')\n",
        "print(c.type())\n",
        "c = c.long()\n",
        "print(c)\n",
        "print(c.type())"
      ]
    },
    {
      "cell_type": "markdown",
      "metadata": {
        "id": "QD2ZVLSxvzLG"
      },
      "source": [
        "#SIZE E SHAPE DE TENSORES\n",
        "---\n"
      ]
    },
    {
      "cell_type": "code",
      "execution_count": 25,
      "metadata": {
        "id": "cqA8uH_lv98v",
        "colab": {
          "base_uri": "https://localhost:8080/"
        },
        "outputId": "acc79655-f4f9-46cd-a8c0-26c4bedee11d"
      },
      "outputs": [
        {
          "output_type": "stream",
          "name": "stdout",
          "text": [
            "[[9 6 1]\n",
            " [5 3 2]]\n"
          ]
        }
      ],
      "source": [
        "#cria um array numpy\n",
        "array_numpy = np.array([[9,6,1],[5,3,2]])\n",
        "print(array_numpy)"
      ]
    },
    {
      "cell_type": "code",
      "execution_count": 26,
      "metadata": {
        "id": "daTYs8o5wH7J",
        "colab": {
          "base_uri": "https://localhost:8080/"
        },
        "outputId": "5dd0d458-35b5-487c-dd51-5e110fb4c6e5"
      },
      "outputs": [
        {
          "output_type": "execute_result",
          "data": {
            "text/plain": [
              "(2, 3)"
            ]
          },
          "metadata": {},
          "execution_count": 26
        }
      ],
      "source": [
        "array_numpy.shape"
      ]
    },
    {
      "cell_type": "code",
      "execution_count": 27,
      "metadata": {
        "id": "_bGvrnsGwLJP",
        "colab": {
          "base_uri": "https://localhost:8080/"
        },
        "outputId": "8874cd57-b99f-4b0a-d3b8-3ea050a8306e"
      },
      "outputs": [
        {
          "output_type": "execute_result",
          "data": {
            "text/plain": [
              "6"
            ]
          },
          "metadata": {},
          "execution_count": 27
        }
      ],
      "source": [
        "array_numpy.size"
      ]
    },
    {
      "cell_type": "code",
      "execution_count": 28,
      "metadata": {
        "id": "oBD5PC0swOHN",
        "colab": {
          "base_uri": "https://localhost:8080/"
        },
        "outputId": "365e941a-320a-4c52-ccd3-d6b734c2cdc0"
      },
      "outputs": [
        {
          "output_type": "stream",
          "name": "stdout",
          "text": [
            "   Coluna_A  Coluna_B  Coluna_C\n",
            "0         9         6         1\n",
            "1         5         3         2\n"
          ]
        }
      ],
      "source": [
        "#criando um dataframe do pandas\n",
        "import pandas as pd\n",
        "from pandas import DataFrame\n",
        "df = DataFrame(array_numpy, columns = ['Coluna_A','Coluna_B','Coluna_C' ])\n",
        "print(df)"
      ]
    },
    {
      "cell_type": "code",
      "execution_count": 29,
      "metadata": {
        "id": "IeOj9SbLwQNf",
        "colab": {
          "base_uri": "https://localhost:8080/"
        },
        "outputId": "2dfff3fe-8086-4085-9c61-53beea77100a"
      },
      "outputs": [
        {
          "output_type": "execute_result",
          "data": {
            "text/plain": [
              "(2, 3)"
            ]
          },
          "metadata": {},
          "execution_count": 29
        }
      ],
      "source": [
        "df.shape"
      ]
    },
    {
      "cell_type": "code",
      "execution_count": 30,
      "metadata": {
        "id": "ywxIUIiUwQgi",
        "colab": {
          "base_uri": "https://localhost:8080/"
        },
        "outputId": "b983d217-d3ce-4b95-9ddf-120390fd84bf"
      },
      "outputs": [
        {
          "output_type": "execute_result",
          "data": {
            "text/plain": [
              "6"
            ]
          },
          "metadata": {},
          "execution_count": 30
        }
      ],
      "source": [
        "df.size"
      ]
    },
    {
      "cell_type": "code",
      "execution_count": 31,
      "metadata": {
        "id": "923RlAEowQwQ",
        "colab": {
          "base_uri": "https://localhost:8080/"
        },
        "outputId": "79f46fd3-edbb-4933-b042-1d1be61a569f"
      },
      "outputs": [
        {
          "output_type": "stream",
          "name": "stdout",
          "text": [
            "tensor([[[5, 9, 1, 8],\n",
            "         [5, 7, 7, 7],\n",
            "         [3, 4, 1, 7]],\n",
            "\n",
            "        [[2, 0, 6, 3],\n",
            "         [2, 3, 0, 0],\n",
            "         [9, 5, 4, 2]]])\n"
          ]
        }
      ],
      "source": [
        "torch.manual_seed(777)\n",
        "x = torch.randint(0,10, size = (2,3,4))\n",
        "print(x)"
      ]
    },
    {
      "cell_type": "code",
      "execution_count": 32,
      "metadata": {
        "id": "Fp-SyvMAwQ4G",
        "colab": {
          "base_uri": "https://localhost:8080/"
        },
        "outputId": "d0f312ac-e3e9-47cd-ff92-c681f2518960"
      },
      "outputs": [
        {
          "output_type": "execute_result",
          "data": {
            "text/plain": [
              "<function Tensor.size>"
            ]
          },
          "metadata": {},
          "execution_count": 32
        }
      ],
      "source": [
        "x.size"
      ]
    },
    {
      "cell_type": "code",
      "execution_count": 33,
      "metadata": {
        "id": "HyWo4RsTwQ_C",
        "colab": {
          "base_uri": "https://localhost:8080/"
        },
        "outputId": "3288a7a3-e2e4-4590-e2b9-c18c7158e88b"
      },
      "outputs": [
        {
          "output_type": "execute_result",
          "data": {
            "text/plain": [
              "torch.Size([2, 3, 4])"
            ]
          },
          "metadata": {},
          "execution_count": 33
        }
      ],
      "source": [
        "x.size()"
      ]
    },
    {
      "cell_type": "code",
      "execution_count": 34,
      "metadata": {
        "id": "jfnT6ue1wREp",
        "colab": {
          "base_uri": "https://localhost:8080/"
        },
        "outputId": "59da20b6-e2e9-4ca8-a1e9-6e099d953939"
      },
      "outputs": [
        {
          "output_type": "execute_result",
          "data": {
            "text/plain": [
              "torch.Size([2, 3, 4])"
            ]
          },
          "metadata": {},
          "execution_count": 34
        }
      ],
      "source": [
        "x.shape"
      ]
    },
    {
      "cell_type": "code",
      "execution_count": 35,
      "metadata": {
        "id": "OefW8u9ywRKD",
        "colab": {
          "base_uri": "https://localhost:8080/"
        },
        "outputId": "eb5f4099-338c-444d-8e6c-e76c4766d6ac"
      },
      "outputs": [
        {
          "output_type": "execute_result",
          "data": {
            "text/plain": [
              "24"
            ]
          },
          "metadata": {},
          "execution_count": 35
        }
      ],
      "source": [
        "#numero total de elementos no tensor\n",
        "torch.numel(x)"
      ]
    },
    {
      "cell_type": "code",
      "execution_count": 36,
      "metadata": {
        "id": "-nEW4nH2wROT",
        "colab": {
          "base_uri": "https://localhost:8080/"
        },
        "outputId": "3179f566-87f0-4a7c-db2c-b741650cc101"
      },
      "outputs": [
        {
          "output_type": "stream",
          "name": "stdout",
          "text": [
            "altera de 'torch.Size([2, 3, 4])' para 'torch.Size([2, 2, 6])'\n",
            "\n",
            "tensor([[[5, 9, 1, 8, 5, 7],\n",
            "         [7, 7, 3, 4, 1, 7]],\n",
            "\n",
            "        [[2, 0, 6, 3, 2, 3],\n",
            "         [0, 0, 9, 5, 4, 2]]])\n"
          ]
        }
      ],
      "source": [
        "#alternando o size do tensor (mas sem mudar o tensor original)\n",
        "print(f\"altera de '{x.size()}' para '{x.view(2,2,6).size()}'\\n\")\n",
        "print(x.view(2,2,6))"
      ]
    },
    {
      "cell_type": "code",
      "execution_count": 37,
      "metadata": {
        "id": "ybxI75-ewRTp"
      },
      "outputs": [],
      "source": [
        "#tambem podemos usar o metodo view() para criar um tensor\n",
        "t = torch.arange(60).view(3,4,5)"
      ]
    },
    {
      "cell_type": "code",
      "execution_count": 38,
      "metadata": {
        "id": "WDZhmI_BwRYN",
        "colab": {
          "base_uri": "https://localhost:8080/"
        },
        "outputId": "c76ab9f7-bb06-4ccd-8da2-60def00d3d9d"
      },
      "outputs": [
        {
          "output_type": "stream",
          "name": "stdout",
          "text": [
            "tensor([[[ 0,  1,  2,  3,  4],\n",
            "         [ 5,  6,  7,  8,  9],\n",
            "         [10, 11, 12, 13, 14],\n",
            "         [15, 16, 17, 18, 19]],\n",
            "\n",
            "        [[20, 21, 22, 23, 24],\n",
            "         [25, 26, 27, 28, 29],\n",
            "         [30, 31, 32, 33, 34],\n",
            "         [35, 36, 37, 38, 39]],\n",
            "\n",
            "        [[40, 41, 42, 43, 44],\n",
            "         [45, 46, 47, 48, 49],\n",
            "         [50, 51, 52, 53, 54],\n",
            "         [55, 56, 57, 58, 59]]])\n"
          ]
        }
      ],
      "source": [
        "print(t)"
      ]
    },
    {
      "cell_type": "code",
      "execution_count": 39,
      "metadata": {
        "id": "dI00nGFfwRcq",
        "colab": {
          "base_uri": "https://localhost:8080/"
        },
        "outputId": "935245eb-ca54-4af3-9c09-e58b5d3d85a3"
      },
      "outputs": [
        {
          "output_type": "execute_result",
          "data": {
            "text/plain": [
              "True"
            ]
          },
          "metadata": {},
          "execution_count": 39
        }
      ],
      "source": [
        "t.shape == t.size()"
      ]
    },
    {
      "cell_type": "code",
      "execution_count": 40,
      "metadata": {
        "id": "rWY8U_5ByOmg",
        "colab": {
          "base_uri": "https://localhost:8080/"
        },
        "outputId": "3bd64636-6e11-48bd-8b3a-c58253f5a394"
      },
      "outputs": [
        {
          "output_type": "execute_result",
          "data": {
            "text/plain": [
              "torch.Size([3, 4, 5])"
            ]
          },
          "metadata": {},
          "execution_count": 40
        }
      ],
      "source": [
        "t.shape"
      ]
    },
    {
      "cell_type": "code",
      "execution_count": 41,
      "metadata": {
        "id": "ozy4mt-AyQCq",
        "colab": {
          "base_uri": "https://localhost:8080/"
        },
        "outputId": "0c43fcfc-a72a-44ab-bf4a-ef87995fbe38"
      },
      "outputs": [
        {
          "output_type": "execute_result",
          "data": {
            "text/plain": [
              "torch.Size([3, 4, 5])"
            ]
          },
          "metadata": {},
          "execution_count": 41
        }
      ],
      "source": [
        "t.size()\n"
      ]
    },
    {
      "cell_type": "code",
      "execution_count": 42,
      "metadata": {
        "id": "BL01TRKbyUEq",
        "colab": {
          "base_uri": "https://localhost:8080/"
        },
        "outputId": "cd403466-6af8-4c64-aa6f-57dd0ad97154"
      },
      "outputs": [
        {
          "output_type": "execute_result",
          "data": {
            "text/plain": [
              "60"
            ]
          },
          "metadata": {},
          "execution_count": 42
        }
      ],
      "source": [
        "#NUMERO TOTAL de elementos no tensor\n",
        "torch.numel(t)"
      ]
    },
    {
      "cell_type": "markdown",
      "metadata": {
        "id": "4uiWuXdfyZmp"
      },
      "source": [
        "#SLICING DE TENSORES BIDIMENSIONAIS\n",
        "---\n"
      ]
    },
    {
      "cell_type": "code",
      "execution_count": 43,
      "metadata": {
        "id": "NGg4iTt3yh1c",
        "colab": {
          "base_uri": "https://localhost:8080/"
        },
        "outputId": "884fa2d0-d358-49a6-c525-255c146c92fe"
      },
      "outputs": [
        {
          "output_type": "stream",
          "name": "stdout",
          "text": [
            "tensor([[6, 3, 9],\n",
            "        [2, 2, 4]])\n"
          ]
        }
      ],
      "source": [
        "#cria um tensor com valores randomicos\n",
        "torch.manual_seed(222)\n",
        "x = torch.randint(0,10,size = (2,3))\n",
        "print(x)"
      ]
    },
    {
      "cell_type": "code",
      "execution_count": 44,
      "metadata": {
        "id": "NLou7KvcysV-",
        "colab": {
          "base_uri": "https://localhost:8080/"
        },
        "outputId": "45d6a9ca-5bec-4ccd-bc75-6fa677a5764f"
      },
      "outputs": [
        {
          "output_type": "stream",
          "name": "stdout",
          "text": [
            "tensor(4)\n"
          ]
        }
      ],
      "source": [
        "#slicing do tensor = qual valor será retornado?\n",
        "print(x[1,2])"
      ]
    },
    {
      "cell_type": "code",
      "execution_count": 45,
      "metadata": {
        "id": "4keOfz9LzFpL",
        "colab": {
          "base_uri": "https://localhost:8080/"
        },
        "outputId": "911d3a71-4a60-4c9e-98f8-b09a44ee82c6"
      },
      "outputs": [
        {
          "output_type": "stream",
          "name": "stdout",
          "text": [
            "tensor(3)\n"
          ]
        }
      ],
      "source": [
        "print(x[0,1])"
      ]
    },
    {
      "cell_type": "markdown",
      "metadata": {
        "id": "3GOSRtADyzCc"
      },
      "source": [
        "#Slicing de tensor tridimensionais\n",
        "---"
      ]
    },
    {
      "cell_type": "code",
      "execution_count": 46,
      "metadata": {
        "id": "Ll3IUqcwyzyk"
      },
      "outputs": [],
      "source": [
        "#cria um tensor com valores randomicos\n",
        "torch.manual_seed(777)\n",
        "x = torch.randint(0,10, size = (2,3,4))"
      ]
    },
    {
      "cell_type": "code",
      "execution_count": 47,
      "metadata": {
        "id": "_FZnKDoAy0JU",
        "colab": {
          "base_uri": "https://localhost:8080/"
        },
        "outputId": "564b3071-6e70-499c-b183-558180290834"
      },
      "outputs": [
        {
          "output_type": "execute_result",
          "data": {
            "text/plain": [
              "3"
            ]
          },
          "metadata": {},
          "execution_count": 47
        }
      ],
      "source": [
        "x.dim()"
      ]
    },
    {
      "cell_type": "code",
      "execution_count": 48,
      "metadata": {
        "id": "nD1QnvIby0TZ",
        "colab": {
          "base_uri": "https://localhost:8080/"
        },
        "outputId": "8a872d0a-a942-4972-f177-40feb15295aa"
      },
      "outputs": [
        {
          "output_type": "stream",
          "name": "stdout",
          "text": [
            "tensor([[[5, 9, 1, 8],\n",
            "         [5, 7, 7, 7],\n",
            "         [3, 4, 1, 7]],\n",
            "\n",
            "        [[2, 0, 6, 3],\n",
            "         [2, 3, 0, 0],\n",
            "         [9, 5, 4, 2]]])\n"
          ]
        }
      ],
      "source": [
        "print(x)"
      ]
    },
    {
      "cell_type": "code",
      "execution_count": 49,
      "metadata": {
        "id": "Rdu7ju9gy0ck",
        "colab": {
          "base_uri": "https://localhost:8080/"
        },
        "outputId": "4a6e1f06-07a2-466c-d7ba-b6ec0518dbb2"
      },
      "outputs": [
        {
          "output_type": "stream",
          "name": "stdout",
          "text": [
            "tensor(3)\n"
          ]
        }
      ],
      "source": [
        "print(x[1,1,1])"
      ]
    },
    {
      "cell_type": "code",
      "execution_count": 50,
      "metadata": {
        "id": "9TpOMmhZy0l-",
        "colab": {
          "base_uri": "https://localhost:8080/"
        },
        "outputId": "3f2b8a45-882a-4f79-d52a-18828c812a8a"
      },
      "outputs": [
        {
          "output_type": "stream",
          "name": "stdout",
          "text": [
            "tensor(4)\n"
          ]
        }
      ],
      "source": [
        "print(x[0,2,1])"
      ]
    },
    {
      "cell_type": "markdown",
      "metadata": {
        "id": "OviyEtDHy0_a"
      },
      "source": [
        "**Sintaxe:**\n",
        "\n",
        "tensor[tensor_position_start:tensor_position_end, tensor_dimension_start:tensor_dimension_end , tensor_value_start:tensor_value_end]\n",
        "\n",
        "**Parâmetros:**\n",
        "\n",
        "- tensor_position_start\n",
        "- tensor_position_end\n",
        "- tensor_dimension_start\n",
        "- tensor_dimension_stop\n",
        "- tensor_value_start\n",
        "- tensor_value_stop"
      ]
    },
    {
      "cell_type": "code",
      "execution_count": 51,
      "metadata": {
        "id": "Jo8Gk4q9y0uq",
        "colab": {
          "base_uri": "https://localhost:8080/"
        },
        "outputId": "89890512-2da0-4600-a1ab-c79a4c88e5b4"
      },
      "outputs": [
        {
          "output_type": "stream",
          "name": "stdout",
          "text": [
            "tensor([[[5, 9, 1, 8],\n",
            "         [5, 7, 7, 7],\n",
            "         [3, 4, 1, 7]],\n",
            "\n",
            "        [[2, 0, 6, 3],\n",
            "         [2, 3, 0, 0],\n",
            "         [9, 5, 4, 2]]])\n"
          ]
        }
      ],
      "source": [
        "print(x)"
      ]
    },
    {
      "cell_type": "code",
      "execution_count": 52,
      "metadata": {
        "id": "wjm5pBtTy026",
        "colab": {
          "base_uri": "https://localhost:8080/"
        },
        "outputId": "895f5610-5f1d-41f8-f006-d82a9d1eaab3"
      },
      "outputs": [
        {
          "output_type": "stream",
          "name": "stdout",
          "text": [
            "tensor([[[5, 9, 1]]])\n",
            "\n",
            "\n",
            "torch.Size([1, 1, 3])\n"
          ]
        }
      ],
      "source": [
        "# SLICING do tensor\n",
        "#extraimos os 3 primeiros valores da primeira\n",
        "#dimensao da primeira posição do tensor\n",
        "fatia_1 = x[0:1,0:1,:3]\n",
        "print(fatia_1)\n",
        "print('\\n')\n",
        "print(fatia_1.shape)"
      ]
    },
    {
      "cell_type": "code",
      "execution_count": 53,
      "metadata": {
        "id": "xkfKaMGRy1dR",
        "colab": {
          "base_uri": "https://localhost:8080/"
        },
        "outputId": "2f9415e3-7201-4847-ee04-28d37b40714d"
      },
      "outputs": [
        {
          "output_type": "stream",
          "name": "stdout",
          "text": [
            "tensor([[[5, 9, 1, 8],\n",
            "         [5, 7, 7, 7],\n",
            "         [3, 4, 1, 7]],\n",
            "\n",
            "        [[2, 0, 6, 3],\n",
            "         [2, 3, 0, 0],\n",
            "         [9, 5, 4, 2]]])\n"
          ]
        }
      ],
      "source": [
        "print(x)"
      ]
    },
    {
      "cell_type": "code",
      "execution_count": 54,
      "metadata": {
        "id": "t2l5GTAYy1lO",
        "colab": {
          "base_uri": "https://localhost:8080/"
        },
        "outputId": "11ee314d-8fe2-4b77-b557-ec64b938b9ea"
      },
      "outputs": [
        {
          "output_type": "stream",
          "name": "stdout",
          "text": [
            "tensor([[[9, 1, 8],\n",
            "         [7, 7, 7]]])\n",
            "\n",
            "\n",
            "torch.Size([1, 2, 3])\n"
          ]
        }
      ],
      "source": [
        "#extraimos os valores cujo indice é de 1 a 4\n",
        "#das duas primeiras dimensoes\n",
        "#da primeira posição do tensor\n",
        "fatia_2 = x[0:1,0:2,1:4]\n",
        "print(fatia_2)\n",
        "print('\\n')\n",
        "print(fatia_2.shape)"
      ]
    },
    {
      "cell_type": "code",
      "execution_count": 55,
      "metadata": {
        "id": "6eu1JzU4y1tl",
        "colab": {
          "base_uri": "https://localhost:8080/"
        },
        "outputId": "f8dd7d0d-e817-498a-e84e-caf61ebb7c40"
      },
      "outputs": [
        {
          "output_type": "stream",
          "name": "stdout",
          "text": [
            "tensor([[[5, 9, 1, 8],\n",
            "         [5, 7, 7, 7],\n",
            "         [3, 4, 1, 7]],\n",
            "\n",
            "        [[2, 0, 6, 3],\n",
            "         [2, 3, 0, 0],\n",
            "         [9, 5, 4, 2]]])\n"
          ]
        }
      ],
      "source": [
        "print(x)"
      ]
    },
    {
      "cell_type": "code",
      "execution_count": 56,
      "metadata": {
        "id": "O0CtJ36ey12b",
        "colab": {
          "base_uri": "https://localhost:8080/"
        },
        "outputId": "28b9168c-c7e2-47e4-8255-aa06e08306aa"
      },
      "outputs": [
        {
          "output_type": "stream",
          "name": "stdout",
          "text": [
            "tensor([[[5, 4]]])\n",
            "\n",
            "\n",
            "torch.Size([1, 1, 2])\n"
          ]
        }
      ],
      "source": [
        "#extraimos os valores cujo indice é de 1 a 3 da\n",
        "# terceira dimensao da segunda posição do tensor\n",
        "fatia_3 = x[1:2,2:3,1:3]\n",
        "print(fatia_3)\n",
        "print('\\n')\n",
        "print(fatia_3.shape)"
      ]
    },
    {
      "cell_type": "markdown",
      "metadata": {
        "id": "-9sljm2Ky1-f"
      },
      "source": [
        "#SLICING DE TENSORES 4D\n",
        "---\n"
      ]
    },
    {
      "cell_type": "code",
      "execution_count": 58,
      "metadata": {
        "id": "r7xuBD3hy2GW"
      },
      "outputs": [],
      "source": [
        "#CRIA TENSORES COM VALORES RANDOMICOS\n",
        "torch.manual_seed(555)\n",
        "x = torch.randint(0,10, size = (2,3,4,7))"
      ]
    },
    {
      "cell_type": "code",
      "execution_count": 59,
      "metadata": {
        "id": "60Prd7hVy2RA",
        "colab": {
          "base_uri": "https://localhost:8080/"
        },
        "outputId": "a5228163-d85b-4935-ccb5-8f1376755daa"
      },
      "outputs": [
        {
          "output_type": "stream",
          "name": "stdout",
          "text": [
            "tensor([[[[6, 0, 3, 5, 8, 3, 4],\n",
            "          [0, 3, 1, 4, 9, 6, 4],\n",
            "          [0, 8, 5, 4, 9, 3, 4],\n",
            "          [0, 0, 8, 1, 7, 0, 0]],\n",
            "\n",
            "         [[7, 8, 7, 5, 9, 1, 3],\n",
            "          [5, 8, 7, 6, 5, 5, 2],\n",
            "          [7, 8, 5, 9, 2, 8, 9],\n",
            "          [3, 4, 7, 9, 2, 8, 9]],\n",
            "\n",
            "         [[2, 1, 2, 2, 5, 0, 3],\n",
            "          [4, 6, 1, 7, 4, 5, 4],\n",
            "          [4, 9, 0, 4, 2, 9, 0],\n",
            "          [7, 5, 9, 9, 0, 4, 0]]],\n",
            "\n",
            "\n",
            "        [[[2, 5, 4, 6, 1, 4, 9],\n",
            "          [6, 2, 1, 6, 9, 5, 2],\n",
            "          [0, 7, 0, 7, 2, 9, 3],\n",
            "          [1, 2, 7, 9, 6, 9, 7]],\n",
            "\n",
            "         [[4, 4, 0, 8, 1, 5, 7],\n",
            "          [9, 2, 5, 9, 6, 1, 3],\n",
            "          [4, 0, 9, 2, 4, 7, 3],\n",
            "          [3, 0, 4, 9, 2, 9, 6]],\n",
            "\n",
            "         [[3, 5, 2, 0, 1, 1, 8],\n",
            "          [6, 2, 8, 4, 9, 1, 7],\n",
            "          [3, 6, 8, 6, 5, 5, 4],\n",
            "          [9, 5, 0, 8, 8, 7, 6]]]])\n"
          ]
        }
      ],
      "source": [
        "print(x)"
      ]
    },
    {
      "cell_type": "code",
      "execution_count": 61,
      "metadata": {
        "id": "TgPocyVby2Zj"
      },
      "outputs": [],
      "source": [
        "fatia_1 = x[1:2,2:3,1:3, 0:5]\n",
        "#extraimos os valores cujo indice vai de 0 a 5, entre as dimensoes\n",
        "#de 1 a 3, nas posições de 1 a 2 e colocação indice 1"
      ]
    },
    {
      "cell_type": "code",
      "execution_count": 62,
      "metadata": {
        "id": "cAzAhbtay2hg",
        "colab": {
          "base_uri": "https://localhost:8080/"
        },
        "outputId": "99baa4ec-86fd-43ad-a770-88f7a45ad7c4"
      },
      "outputs": [
        {
          "output_type": "stream",
          "name": "stdout",
          "text": [
            "tensor([[[[6, 2, 8, 4, 9],\n",
            "          [3, 6, 8, 6, 5]]]])\n",
            "\n",
            "\n",
            "torch.Size([1, 1, 2, 5])\n"
          ]
        }
      ],
      "source": [
        "print(fatia_1)\n",
        "print('\\n')\n",
        "print(fatia_1.shape)"
      ]
    },
    {
      "cell_type": "markdown",
      "metadata": {
        "id": "oeeozU2ey2ou"
      },
      "source": [
        "#Operações com Tensores\n",
        "---\n",
        "Fatiar um tensor com slicing baseado em indexaçao é util, mas pode ser impraticavel com tensores de muitas dimensoes.\n",
        "\n",
        "Para fatiar um tensor 4D no PyTorch, voce pode usar o método tensor.narrow().Este método permite especificar as dimensões ao longo das quais deseja fatiar o tensor e os indices inicial e final de cada dimensão."
      ]
    },
    {
      "cell_type": "code",
      "source": [
        "#cria um tensor\n",
        "x = torch.tensor([[1,2,3],[4,5,6],[7,8,9]])\n",
        "print(x)"
      ],
      "metadata": {
        "colab": {
          "base_uri": "https://localhost:8080/"
        },
        "id": "vY1t3sFMklgp",
        "outputId": "d975cffb-7bb7-4062-8158-4004f31d7e41"
      },
      "execution_count": 63,
      "outputs": [
        {
          "output_type": "stream",
          "name": "stdout",
          "text": [
            "tensor([[1, 2, 3],\n",
            "        [4, 5, 6],\n",
            "        [7, 8, 9]])\n"
          ]
        }
      ]
    },
    {
      "cell_type": "code",
      "source": [
        "x.shape"
      ],
      "metadata": {
        "colab": {
          "base_uri": "https://localhost:8080/"
        },
        "id": "pSgkEgwqkvG_",
        "outputId": "ae68b55c-fe4e-4b1c-e11e-4807dfbdffa2"
      },
      "execution_count": 64,
      "outputs": [
        {
          "output_type": "execute_result",
          "data": {
            "text/plain": [
              "torch.Size([3, 3])"
            ]
          },
          "metadata": {},
          "execution_count": 64
        }
      ]
    },
    {
      "cell_type": "code",
      "source": [
        "y = torch.narrow(x,0,0,2)\n",
        "#a partir da dimensão de indice 0, retorne as\n",
        "#dimensões de indice 0 a 2.\n",
        "print(y)"
      ],
      "metadata": {
        "colab": {
          "base_uri": "https://localhost:8080/"
        },
        "id": "xELuDQJgkyYh",
        "outputId": "a7f7f162-bc01-4123-edf8-d5c35d91b9ef"
      },
      "execution_count": 65,
      "outputs": [
        {
          "output_type": "stream",
          "name": "stdout",
          "text": [
            "tensor([[1, 2, 3],\n",
            "        [4, 5, 6]])\n"
          ]
        }
      ]
    },
    {
      "cell_type": "code",
      "source": [
        "print(y.shape)"
      ],
      "metadata": {
        "colab": {
          "base_uri": "https://localhost:8080/"
        },
        "id": "4JVWnsp2k6EH",
        "outputId": "c43a16d6-1f1b-45f9-ec6b-292b6453aa29"
      },
      "execution_count": 66,
      "outputs": [
        {
          "output_type": "stream",
          "name": "stdout",
          "text": [
            "torch.Size([2, 3])\n"
          ]
        }
      ]
    },
    {
      "cell_type": "code",
      "source": [
        "#cria um tensor de 4 dimensoes\n",
        "torch.manual_seed(333)\n",
        "tensor_4d = torch.randn(4,3,5,7)"
      ],
      "metadata": {
        "id": "M_xeiHbYlMZ_"
      },
      "execution_count": 67,
      "outputs": []
    },
    {
      "cell_type": "code",
      "source": [
        "tensor_4d.dim()"
      ],
      "metadata": {
        "colab": {
          "base_uri": "https://localhost:8080/"
        },
        "id": "hL9R-ehglW5U",
        "outputId": "d7369415-c4b9-4391-e6b8-3608dfec5e4b"
      },
      "execution_count": 68,
      "outputs": [
        {
          "output_type": "execute_result",
          "data": {
            "text/plain": [
              "4"
            ]
          },
          "metadata": {},
          "execution_count": 68
        }
      ]
    },
    {
      "cell_type": "code",
      "source": [
        "print(tensor_4d)"
      ],
      "metadata": {
        "colab": {
          "base_uri": "https://localhost:8080/"
        },
        "id": "G_afhmU8lYjx",
        "outputId": "84f89a47-4e65-4787-dc2c-6c8d3375c14f"
      },
      "execution_count": 69,
      "outputs": [
        {
          "output_type": "stream",
          "name": "stdout",
          "text": [
            "tensor([[[[-3.2437e-01, -1.5451e+00, -9.1402e-01, -1.1615e+00,  5.3821e-02,\n",
            "            3.4462e-01,  1.2141e+00],\n",
            "          [ 7.6924e-01,  2.5891e-01, -1.2053e+00,  1.0271e+00,  1.2716e+00,\n",
            "           -8.7937e-01,  5.7370e-01],\n",
            "          [-4.4572e-01, -2.0859e+00,  1.3772e+00, -2.3690e-01,  8.3114e-01,\n",
            "           -8.0294e-01, -2.9198e-01],\n",
            "          [-1.3555e-01, -5.5118e-01,  2.2018e+00,  1.2527e+00,  8.5568e-01,\n",
            "            1.0997e+00, -7.1250e-01],\n",
            "          [-6.2668e-01,  6.2716e-01,  1.0082e+00, -8.7408e-01,  3.8900e-01,\n",
            "           -2.1616e-01,  1.1955e+00]],\n",
            "\n",
            "         [[-1.4955e+00, -1.6574e+00, -1.1984e-01,  2.4541e+00,  2.0123e+00,\n",
            "           -1.6201e-01,  1.8793e-01],\n",
            "          [-2.8668e-01, -5.6722e-01,  2.4733e-01,  8.9870e-01, -2.5355e-01,\n",
            "            1.2472e+00, -1.7954e+00],\n",
            "          [ 1.8357e+00,  9.8063e-01,  1.1877e+00,  1.5062e-01,  2.1352e-01,\n",
            "           -1.9000e+00, -1.0241e+00],\n",
            "          [-4.5493e-01,  3.6072e-01, -6.4407e-01, -9.7513e-01, -8.4540e-01,\n",
            "            1.8660e-01, -6.3210e-01],\n",
            "          [ 7.2978e-01,  1.3003e+00,  1.8480e+00,  1.2382e-01, -6.9415e-01,\n",
            "           -5.5486e-01,  1.2486e+00]],\n",
            "\n",
            "         [[-4.7512e-01, -1.5098e-01, -4.0047e-01, -2.4335e-01, -8.6111e-01,\n",
            "           -3.2387e-01,  7.5250e-01],\n",
            "          [ 6.4624e-01,  7.7375e-01,  1.2741e+00,  1.6960e+00,  1.4577e+00,\n",
            "            1.6783e-01,  9.1263e-01],\n",
            "          [ 9.3684e-01, -9.1909e-01,  1.0637e+00,  6.9383e-01, -2.0857e-01,\n",
            "            7.5144e-01, -6.0059e-02],\n",
            "          [-4.3544e-01, -1.2452e+00, -1.7764e-01, -1.0989e+00,  3.6934e-02,\n",
            "            1.2992e+00, -1.8865e-02],\n",
            "          [-1.1231e-02, -8.8953e-01, -1.7218e+00, -8.5863e-01,  1.5849e+00,\n",
            "           -8.0206e-01, -4.0424e-01]]],\n",
            "\n",
            "\n",
            "        [[[ 7.9125e-01,  5.0935e-01,  1.5738e+00,  2.5658e-01, -1.0961e-01,\n",
            "            6.4651e-01, -1.2767e-01],\n",
            "          [-7.3908e-01,  9.2761e-02, -9.9265e-02, -2.7079e-01,  8.1630e-01,\n",
            "            1.2536e+00, -8.0071e-01],\n",
            "          [ 2.0827e+00, -1.0636e+00,  1.6650e+00, -3.1337e-01,  1.8505e+00,\n",
            "           -1.3504e+00, -7.1568e-01],\n",
            "          [ 6.0838e-01, -9.6001e-01, -1.0048e+00,  5.4563e-01,  1.3652e+00,\n",
            "            1.1437e+00, -1.1256e+00],\n",
            "          [-2.4978e-01, -4.2194e-01, -1.4819e-01, -1.3900e+00, -1.8941e-02,\n",
            "            6.6654e-01,  1.9005e+00]],\n",
            "\n",
            "         [[ 1.0310e-01, -1.3156e-01, -1.4451e+00,  6.2816e-01, -1.1047e+00,\n",
            "           -8.4109e-01,  1.4037e+00],\n",
            "          [ 1.0020e-01,  1.3601e+00,  4.1493e-01,  4.5996e-01, -2.6010e-01,\n",
            "            1.9304e+00, -9.7797e-01],\n",
            "          [-7.3522e-01,  7.1585e-01, -1.4962e-01, -2.7487e+00, -1.5123e+00,\n",
            "           -1.0746e-01, -8.9469e-01],\n",
            "          [-6.3089e-01, -5.8645e-01,  7.6477e-02,  5.7283e-01,  4.1659e-01,\n",
            "            4.1125e-01,  8.6995e-02],\n",
            "          [ 5.3908e-01,  1.9088e+00, -1.0770e+00, -5.4833e-01, -2.8823e-02,\n",
            "           -8.6302e-01,  2.8070e-01]],\n",
            "\n",
            "         [[-9.6437e-01,  8.9741e-01, -1.2857e+00, -1.7260e-01,  3.8842e-01,\n",
            "            7.2638e-01, -9.4582e-01],\n",
            "          [ 3.1993e-01,  1.0818e+00, -1.2178e+00, -4.7426e-01, -3.5803e-01,\n",
            "            5.9211e-02,  1.7171e-01],\n",
            "          [-7.7415e-01, -4.4456e-01, -8.8756e-01, -2.3292e+00, -9.6596e-02,\n",
            "            5.5965e-01, -1.4190e-02],\n",
            "          [-9.1159e-02,  1.2029e+00,  6.8130e-01, -2.2217e+00,  8.6288e-01,\n",
            "            7.8781e-01, -2.0375e-02],\n",
            "          [ 2.7745e-01,  4.8690e-01, -4.8720e-01,  1.7882e+00, -1.3248e+00,\n",
            "            1.3708e+00,  8.5238e-02]]],\n",
            "\n",
            "\n",
            "        [[[ 1.0373e+00, -5.4436e-01, -1.5784e+00,  1.0717e+00,  2.2046e-02,\n",
            "           -4.0796e-01,  2.8412e-01],\n",
            "          [-1.1164e+00,  1.0833e+00,  8.8508e-01,  7.2216e-01, -8.2938e-02,\n",
            "            1.5530e-02, -1.4723e+00],\n",
            "          [-2.2357e+00,  1.2525e+00, -1.6768e+00,  1.0950e+00,  8.7878e-01,\n",
            "            4.5301e-01, -4.4471e-01],\n",
            "          [ 6.6018e-01, -6.3006e-01,  6.6025e-01, -9.4616e-02, -2.2346e-03,\n",
            "           -5.2672e-01, -2.4870e+00],\n",
            "          [-1.5675e+00,  7.1562e-01,  1.2978e+00, -1.5915e+00,  7.9555e-01,\n",
            "           -7.5722e-01, -1.6097e+00]],\n",
            "\n",
            "         [[ 1.7271e+00, -3.3080e-02,  6.7827e-01, -8.5326e-01,  1.1253e+00,\n",
            "            3.8403e-01,  7.3386e-01],\n",
            "          [ 3.3834e-02,  1.9662e-01, -1.1332e+00, -1.1622e+00, -1.7797e+00,\n",
            "            1.5026e+00, -2.3768e-01],\n",
            "          [ 7.2747e-01, -1.1708e+00, -4.6567e-01, -2.3918e-01,  2.1910e-01,\n",
            "            1.0182e+00, -1.1953e+00],\n",
            "          [ 1.4824e+00,  5.0878e-01,  1.2319e+00,  3.6942e-01,  9.7733e-01,\n",
            "            5.9397e-01, -5.1619e-02],\n",
            "          [-3.8741e-01, -5.7271e-01, -5.8891e-01,  1.0573e+00,  1.4920e+00,\n",
            "            9.5729e-01, -1.2282e-02]],\n",
            "\n",
            "         [[-5.3130e-01, -8.8897e-02, -3.3941e-01, -5.9929e-01,  6.2698e-01,\n",
            "           -1.1724e+00,  3.6002e-01],\n",
            "          [ 2.6424e-01,  9.2028e-02,  1.1315e-01,  2.5995e-02, -1.0248e+00,\n",
            "            1.6062e+00, -1.0407e-02],\n",
            "          [-1.5166e+00,  3.0913e-01, -3.1205e-02, -2.1909e+00, -5.4555e-03,\n",
            "           -2.7440e-01, -7.9929e-01],\n",
            "          [ 2.1697e-01,  1.7384e+00,  6.2847e-01, -6.5811e-02, -3.5639e+00,\n",
            "            5.0970e-01,  2.0930e+00],\n",
            "          [-6.0026e-01,  1.3843e+00, -8.2016e-01,  6.0304e-01,  8.5715e-01,\n",
            "            1.4230e+00,  7.6821e-01]]],\n",
            "\n",
            "\n",
            "        [[[ 4.5513e-01, -7.2925e-01,  1.2888e-02,  1.7020e-01, -1.5358e+00,\n",
            "           -2.1333e+00, -2.3159e+00],\n",
            "          [ 4.1181e-01,  1.4655e-01,  2.6578e-01, -1.0580e+00,  2.9889e-01,\n",
            "           -1.0058e+00,  1.4060e+00],\n",
            "          [ 3.6543e-01, -1.1127e+00, -1.2359e+00, -6.7089e-01,  9.9390e-01,\n",
            "            7.1657e-01, -2.9048e+00],\n",
            "          [ 3.4796e-01, -2.8885e-02,  6.2518e-01,  9.3694e-01,  1.0027e+00,\n",
            "            1.3608e+00,  4.7357e-01],\n",
            "          [-6.5559e-01,  9.0133e-01,  4.5642e-01,  5.8508e-01,  4.7814e-01,\n",
            "            4.0631e-01,  3.5691e-01]],\n",
            "\n",
            "         [[ 7.3866e-01, -5.4286e-02, -7.7187e-01,  3.2629e-01,  6.6669e-01,\n",
            "           -7.6247e-02, -1.7618e-01],\n",
            "          [-8.2596e-02,  1.2280e+00, -7.5950e-01,  2.0246e+00, -9.3544e-02,\n",
            "           -6.2055e-01,  9.6535e-01],\n",
            "          [-1.6156e+00,  4.9917e-01,  1.1617e+00,  7.8243e-01, -7.5846e-01,\n",
            "           -4.6069e-01, -9.8036e-01],\n",
            "          [-1.1722e+00,  1.3574e+00, -1.1007e+00, -1.9955e-01, -5.9040e-01,\n",
            "            5.7781e-02, -2.2473e+00],\n",
            "          [ 1.2535e-01, -8.3594e-01, -5.6127e-01,  9.4109e-01, -1.7890e+00,\n",
            "           -2.1846e+00, -1.5493e+00]],\n",
            "\n",
            "         [[-2.2416e+00, -1.0289e+00,  1.0272e+00, -3.9374e-02, -9.8189e-01,\n",
            "            7.8756e-01,  1.1057e+00],\n",
            "          [-1.7204e+00, -4.7016e-02, -1.6082e+00,  1.6250e+00,  7.6603e-02,\n",
            "            6.8831e-01, -1.6656e+00],\n",
            "          [ 1.0079e+00,  2.0660e+00,  4.9143e-01, -1.3444e-01,  1.5363e-02,\n",
            "           -5.3854e-01,  4.7684e-01],\n",
            "          [-7.7716e-01,  4.8596e-01, -1.0513e+00,  8.0161e-01,  1.5784e-01,\n",
            "           -9.1922e-02, -9.7969e-01],\n",
            "          [ 1.5923e+00, -2.4737e-01, -1.3132e+00, -1.0658e-01, -5.7288e-01,\n",
            "            9.8055e-01, -2.3705e+00]]]])\n"
          ]
        }
      ]
    },
    {
      "cell_type": "code",
      "source": [
        "sliced_tensor_4d = tensor_4d.narrow(2,0,2)\n",
        "#a partir da dimensao de indice 2, retorne as dimensoes\n",
        "#entre indices 0 e 2. faça isso em todas as posições\n",
        "#e colocacoes.\n"
      ],
      "metadata": {
        "id": "FOhct9R6lb_h"
      },
      "execution_count": 70,
      "outputs": []
    },
    {
      "cell_type": "code",
      "source": [
        "sliced_tensor_4d.shape"
      ],
      "metadata": {
        "colab": {
          "base_uri": "https://localhost:8080/"
        },
        "id": "6XeM77QQmiun",
        "outputId": "3b575788-06cd-46e2-ee59-7b0c2f1bccb5"
      },
      "execution_count": 71,
      "outputs": [
        {
          "output_type": "execute_result",
          "data": {
            "text/plain": [
              "torch.Size([4, 3, 2, 7])"
            ]
          },
          "metadata": {},
          "execution_count": 71
        }
      ]
    },
    {
      "cell_type": "code",
      "source": [
        "print(sliced_tensor_4d)"
      ],
      "metadata": {
        "colab": {
          "base_uri": "https://localhost:8080/"
        },
        "id": "NTxb4Yp1ml8F",
        "outputId": "4778fda8-db83-4e78-dd8a-d9648fc81eb6"
      },
      "execution_count": 72,
      "outputs": [
        {
          "output_type": "stream",
          "name": "stdout",
          "text": [
            "tensor([[[[-0.3244, -1.5451, -0.9140, -1.1615,  0.0538,  0.3446,  1.2141],\n",
            "          [ 0.7692,  0.2589, -1.2053,  1.0271,  1.2716, -0.8794,  0.5737]],\n",
            "\n",
            "         [[-1.4955, -1.6574, -0.1198,  2.4541,  2.0123, -0.1620,  0.1879],\n",
            "          [-0.2867, -0.5672,  0.2473,  0.8987, -0.2536,  1.2472, -1.7954]],\n",
            "\n",
            "         [[-0.4751, -0.1510, -0.4005, -0.2434, -0.8611, -0.3239,  0.7525],\n",
            "          [ 0.6462,  0.7737,  1.2741,  1.6960,  1.4577,  0.1678,  0.9126]]],\n",
            "\n",
            "\n",
            "        [[[ 0.7912,  0.5094,  1.5738,  0.2566, -0.1096,  0.6465, -0.1277],\n",
            "          [-0.7391,  0.0928, -0.0993, -0.2708,  0.8163,  1.2536, -0.8007]],\n",
            "\n",
            "         [[ 0.1031, -0.1316, -1.4451,  0.6282, -1.1047, -0.8411,  1.4037],\n",
            "          [ 0.1002,  1.3601,  0.4149,  0.4600, -0.2601,  1.9304, -0.9780]],\n",
            "\n",
            "         [[-0.9644,  0.8974, -1.2857, -0.1726,  0.3884,  0.7264, -0.9458],\n",
            "          [ 0.3199,  1.0818, -1.2178, -0.4743, -0.3580,  0.0592,  0.1717]]],\n",
            "\n",
            "\n",
            "        [[[ 1.0373, -0.5444, -1.5784,  1.0717,  0.0220, -0.4080,  0.2841],\n",
            "          [-1.1164,  1.0833,  0.8851,  0.7222, -0.0829,  0.0155, -1.4723]],\n",
            "\n",
            "         [[ 1.7271, -0.0331,  0.6783, -0.8533,  1.1253,  0.3840,  0.7339],\n",
            "          [ 0.0338,  0.1966, -1.1332, -1.1622, -1.7797,  1.5026, -0.2377]],\n",
            "\n",
            "         [[-0.5313, -0.0889, -0.3394, -0.5993,  0.6270, -1.1724,  0.3600],\n",
            "          [ 0.2642,  0.0920,  0.1132,  0.0260, -1.0248,  1.6062, -0.0104]]],\n",
            "\n",
            "\n",
            "        [[[ 0.4551, -0.7292,  0.0129,  0.1702, -1.5358, -2.1333, -2.3159],\n",
            "          [ 0.4118,  0.1465,  0.2658, -1.0580,  0.2989, -1.0058,  1.4060]],\n",
            "\n",
            "         [[ 0.7387, -0.0543, -0.7719,  0.3263,  0.6667, -0.0762, -0.1762],\n",
            "          [-0.0826,  1.2280, -0.7595,  2.0246, -0.0935, -0.6205,  0.9653]],\n",
            "\n",
            "         [[-2.2416, -1.0289,  1.0272, -0.0394, -0.9819,  0.7876,  1.1057],\n",
            "          [-1.7204, -0.0470, -1.6082,  1.6250,  0.0766,  0.6883, -1.6656]]]])\n"
          ]
        }
      ]
    },
    {
      "cell_type": "code",
      "source": [
        "#cria um tensor de 5 dimensoes\n",
        "torch.manual_seed(222)\n",
        "tensor_5d = torch.randn(4,3,5,7,3)\n",
        "tensor_5d.dim()"
      ],
      "metadata": {
        "colab": {
          "base_uri": "https://localhost:8080/"
        },
        "id": "uxF8u-A9muKp",
        "outputId": "ab077081-8ef4-4884-ddbb-603c23847cd7"
      },
      "execution_count": 73,
      "outputs": [
        {
          "output_type": "execute_result",
          "data": {
            "text/plain": [
              "5"
            ]
          },
          "metadata": {},
          "execution_count": 73
        }
      ]
    },
    {
      "cell_type": "code",
      "source": [
        "print(tensor_5d)"
      ],
      "metadata": {
        "colab": {
          "base_uri": "https://localhost:8080/"
        },
        "id": "scdPImJym_iO",
        "outputId": "8e080765-99f2-4575-e7f3-1fd66a547eb5"
      },
      "execution_count": 74,
      "outputs": [
        {
          "output_type": "stream",
          "name": "stdout",
          "text": [
            "tensor([[[[[-1.4609e+00,  7.5284e-01,  7.8715e-01],\n",
            "           [ 1.2646e+00, -6.3714e-01, -1.1649e+00],\n",
            "           [-8.3920e-01, -1.1444e+00,  2.0679e-01],\n",
            "           ...,\n",
            "           [-2.2334e+00,  7.5494e-02,  4.4784e-01],\n",
            "           [-1.2305e+00,  6.4900e-01, -8.6486e-03],\n",
            "           [-1.3489e+00,  6.3523e-01,  1.3309e+00]],\n",
            "\n",
            "          [[ 1.8371e+00, -3.5801e-01,  1.9123e-01],\n",
            "           [ 1.0761e-01,  8.6465e-01,  3.0507e-02],\n",
            "           [ 1.1851e+00,  1.4213e-01, -9.4899e-02],\n",
            "           ...,\n",
            "           [ 1.6631e-01, -4.7617e-01, -1.0917e+00],\n",
            "           [ 5.8131e-01, -1.2279e-01, -7.6770e-02],\n",
            "           [-7.9447e-01, -8.0380e-01, -1.3444e-01]],\n",
            "\n",
            "          [[-9.1836e-01, -3.7776e-01,  4.5677e-01],\n",
            "           [ 7.6520e-01,  4.8849e-01, -2.1489e+00],\n",
            "           [-8.5332e-01,  5.7984e-01, -6.4183e-01],\n",
            "           ...,\n",
            "           [ 2.7101e-01, -1.5007e+00,  1.1534e+00],\n",
            "           [ 2.9236e-01, -1.8282e-01,  5.4359e-01],\n",
            "           [-1.1346e+00, -6.5239e-01, -1.0586e+00]],\n",
            "\n",
            "          [[ 4.1766e-01, -5.1919e-01,  5.7884e-01],\n",
            "           [-2.9708e-01, -6.0644e-01, -1.2248e+00],\n",
            "           [-2.0160e+00,  1.0453e+00,  4.1145e-01],\n",
            "           ...,\n",
            "           [ 1.0562e-01,  8.6055e-01,  9.5128e-01],\n",
            "           [-3.6999e-01, -1.6828e+00, -1.4876e+00],\n",
            "           [ 7.6582e-01,  8.9076e-02, -8.8550e-01]],\n",
            "\n",
            "          [[ 3.0020e-01,  1.7604e-01, -9.7505e-01],\n",
            "           [-1.8220e+00, -9.3564e-01,  8.3833e-01],\n",
            "           [-4.5458e-02, -8.9865e-01,  8.3413e-01],\n",
            "           ...,\n",
            "           [ 1.2569e+00, -5.9114e-01,  3.8181e-01],\n",
            "           [-5.9152e-01,  6.2583e-02,  7.5592e-01],\n",
            "           [ 3.4066e-01, -1.6109e+00,  1.0241e-01]]],\n",
            "\n",
            "\n",
            "         [[[-2.0924e+00, -7.6374e-02,  6.0525e-01],\n",
            "           [ 6.9033e-01,  1.4234e+00,  1.3235e+00],\n",
            "           [ 3.4384e-01, -4.4831e-01,  4.7655e-01],\n",
            "           ...,\n",
            "           [ 5.3790e-01, -2.4354e-02,  5.6613e-01],\n",
            "           [-1.4083e+00, -1.1757e-02,  1.2112e+00],\n",
            "           [-1.3738e-01,  1.0839e+00, -1.3650e+00]],\n",
            "\n",
            "          [[-1.1573e+00, -4.9814e-02,  1.5634e+00],\n",
            "           [-1.7298e+00, -5.7171e-01,  1.8469e+00],\n",
            "           [ 6.2279e-01, -2.8551e-01, -9.6685e-02],\n",
            "           ...,\n",
            "           [-9.5484e-01, -2.5305e+00, -3.2215e-02],\n",
            "           [ 2.4324e-01,  9.2635e-01,  3.5821e-01],\n",
            "           [-9.5094e-01, -1.6307e+00, -2.7432e-01]],\n",
            "\n",
            "          [[ 1.1743e+00,  2.5940e-01, -3.2316e-01],\n",
            "           [ 9.0040e-01, -1.1019e-01, -1.1299e-01],\n",
            "           [-1.8758e+00, -2.1057e-02,  5.2762e-01],\n",
            "           ...,\n",
            "           [-2.3903e-02,  1.0582e+00,  8.7870e-01],\n",
            "           [ 3.8586e-01,  2.6203e-01, -1.8771e+00],\n",
            "           [-2.7809e-01,  1.0303e+00, -2.0342e-01]],\n",
            "\n",
            "          [[-1.2090e+00,  3.1192e-01, -1.2300e-01],\n",
            "           [-9.9111e-01, -4.0107e-01, -1.8377e-01],\n",
            "           [ 6.1165e-01,  8.5482e-01, -6.5038e-01],\n",
            "           ...,\n",
            "           [ 8.7188e-01, -9.3623e-01,  1.4547e+00],\n",
            "           [-9.5716e-01,  8.6431e-02, -8.9981e-01],\n",
            "           [-7.4399e-01, -4.9358e-01,  1.4211e+00]],\n",
            "\n",
            "          [[-7.2951e-01, -2.0467e+00, -1.3607e+00],\n",
            "           [ 2.7716e-01,  7.1049e-01,  1.3140e-01],\n",
            "           [-2.3454e+00, -1.6052e-02, -2.2947e+00],\n",
            "           ...,\n",
            "           [-1.6345e+00, -1.9824e-01, -1.3638e+00],\n",
            "           [-1.2007e-01, -3.9499e-01,  4.8601e-01],\n",
            "           [-1.5138e+00,  1.0452e-01, -8.6403e-01]]],\n",
            "\n",
            "\n",
            "         [[[ 5.9718e-01,  6.7312e-01, -4.0792e-01],\n",
            "           [ 4.1685e-01,  7.4225e-01,  3.1540e-01],\n",
            "           [-1.3457e-01,  1.0418e-01, -9.7626e-01],\n",
            "           ...,\n",
            "           [ 9.1420e-01,  1.4643e+00, -1.4234e+00],\n",
            "           [ 2.6443e-03,  4.1949e-01,  1.8959e-01],\n",
            "           [-4.3784e-01,  3.9322e-01, -2.9146e-01]],\n",
            "\n",
            "          [[-1.0041e+00,  6.8629e-01,  2.6605e-01],\n",
            "           [ 3.3405e-02,  4.8146e-03, -2.5363e-02],\n",
            "           [ 5.0076e-01, -6.0252e-01, -1.3466e+00],\n",
            "           ...,\n",
            "           [-6.4053e-01,  6.0251e-01,  3.3219e-02],\n",
            "           [-1.4659e+00,  1.4122e+00, -7.5418e-01],\n",
            "           [-4.1988e-01, -9.4675e-01, -1.0284e+00]],\n",
            "\n",
            "          [[ 1.2076e+00,  3.4332e-01, -4.1482e-01],\n",
            "           [ 8.7682e-01, -1.9799e-01,  4.1142e-01],\n",
            "           [-2.2135e-01, -9.1651e-02,  3.4556e-01],\n",
            "           ...,\n",
            "           [-2.8603e-01, -1.3964e-01, -1.5957e+00],\n",
            "           [-2.4760e-01, -1.8642e-01,  1.4147e+00],\n",
            "           [-2.5082e-01,  1.8968e+00,  1.6848e+00]],\n",
            "\n",
            "          [[ 3.9494e-01, -5.8236e-01, -3.8931e-01],\n",
            "           [ 1.3193e+00,  5.9717e-01, -1.7085e+00],\n",
            "           [-1.6939e+00,  8.2830e-01, -1.5307e+00],\n",
            "           ...,\n",
            "           [ 8.8983e-02, -4.7956e-01, -3.0628e+00],\n",
            "           [-1.6937e+00,  1.0376e+00, -6.1732e-01],\n",
            "           [ 2.7204e-01,  7.1658e-01,  2.1826e+00]],\n",
            "\n",
            "          [[-1.1688e+00, -4.9393e-01,  1.7921e+00],\n",
            "           [ 8.1281e-01,  1.1785e+00,  7.0172e-02],\n",
            "           [-1.1433e+00, -5.1817e-01, -7.4951e-01],\n",
            "           ...,\n",
            "           [ 1.2593e-01, -6.2477e-01, -3.1557e-01],\n",
            "           [ 1.0749e+00,  6.8457e-01, -3.9876e-02],\n",
            "           [ 8.5817e-01, -1.1029e+00,  1.0161e+00]]]],\n",
            "\n",
            "\n",
            "\n",
            "        [[[[ 2.3882e-01,  5.5173e-01, -2.7778e-01],\n",
            "           [-3.0989e-01, -2.1419e+00, -9.0013e-01],\n",
            "           [-1.1504e-01,  1.0329e+00,  1.2606e-01],\n",
            "           ...,\n",
            "           [ 3.5111e-01, -7.2331e-01,  2.0447e+00],\n",
            "           [ 8.3836e-01, -1.4119e-01, -9.4077e-02],\n",
            "           [ 1.2460e+00, -3.5712e+00, -4.9582e-02]],\n",
            "\n",
            "          [[-1.4953e+00,  2.1872e-03, -1.6831e-03],\n",
            "           [ 7.1819e-01,  1.4071e+00,  8.7770e-01],\n",
            "           [-1.1696e-01,  3.9336e-01,  1.5468e+00],\n",
            "           ...,\n",
            "           [-1.0518e+00, -2.2507e+00, -1.1009e-01],\n",
            "           [ 5.8528e-03, -6.4653e-01,  5.2278e-01],\n",
            "           [-1.6588e-01, -8.4721e-01, -1.0338e-01]],\n",
            "\n",
            "          [[ 1.2923e+00,  6.2887e-01, -1.3064e-01],\n",
            "           [ 5.4365e-01, -2.7507e-01,  1.0960e+00],\n",
            "           [ 3.4015e-02, -1.1078e+00, -1.4502e+00],\n",
            "           ...,\n",
            "           [ 1.7296e+00,  9.8364e-01, -1.7373e-01],\n",
            "           [ 9.3177e-01, -5.7567e-02, -1.3370e+00],\n",
            "           [ 1.1696e+00,  8.2240e-01,  4.5437e-01]],\n",
            "\n",
            "          [[ 4.4216e-01,  5.0442e-01, -9.9844e-01],\n",
            "           [ 1.2389e+00,  1.4588e+00, -7.6855e-02],\n",
            "           [ 8.1432e-01,  7.5639e-01,  4.6699e-01],\n",
            "           ...,\n",
            "           [-7.0751e-02,  1.3812e+00, -3.4220e-01],\n",
            "           [-1.5731e+00,  1.3029e-01, -2.0231e-01],\n",
            "           [ 1.3796e+00,  2.7243e-01,  9.8998e-01]],\n",
            "\n",
            "          [[-3.6002e-01,  6.2837e-01,  4.0384e-01],\n",
            "           [ 1.9059e-01,  4.2522e-01, -2.1827e+00],\n",
            "           [-5.1799e-01, -4.8852e-01, -5.2442e-01],\n",
            "           ...,\n",
            "           [-2.4665e-01,  4.3114e-01, -6.5033e-01],\n",
            "           [-1.8192e+00, -1.3110e-01, -2.6853e+00],\n",
            "           [ 3.7687e-01,  3.4354e-01,  1.3181e+00]]],\n",
            "\n",
            "\n",
            "         [[[ 2.7022e-01,  9.3350e-01, -9.8980e-01],\n",
            "           [ 2.5170e+00,  5.2412e-01,  1.1738e+00],\n",
            "           [-4.3601e-02,  9.3647e-02, -1.3474e+00],\n",
            "           ...,\n",
            "           [-3.2244e-01,  4.6427e-01,  6.9933e-02],\n",
            "           [-1.0100e+00, -8.5830e-01,  1.2075e+00],\n",
            "           [-7.5781e-02, -7.7614e-01, -7.6975e-01]],\n",
            "\n",
            "          [[ 6.3325e-01, -1.7086e-01, -3.4387e-01],\n",
            "           [ 2.9765e-01, -1.2223e-01, -3.3773e-01],\n",
            "           [-1.7955e+00, -1.1405e+00,  1.5330e+00],\n",
            "           ...,\n",
            "           [ 2.7938e+00,  2.6159e-01, -7.3070e-01],\n",
            "           [ 4.6008e-01,  8.5640e-01,  8.3050e-01],\n",
            "           [-9.9236e-02, -1.2685e+00, -1.2521e+00]],\n",
            "\n",
            "          [[ 1.4587e+00,  1.0343e+00, -1.0623e+00],\n",
            "           [ 5.4757e-01,  2.6493e-01,  9.8217e-01],\n",
            "           [-5.7030e-01, -1.9963e+00,  6.9579e-01],\n",
            "           ...,\n",
            "           [ 1.2102e+00,  2.2387e+00,  3.1028e-01],\n",
            "           [ 4.9717e-01, -4.4544e-01, -1.9215e+00],\n",
            "           [ 5.5473e-02, -2.2080e+00,  8.3227e-01]],\n",
            "\n",
            "          [[ 9.9824e-02,  1.8266e+00,  1.9524e-01],\n",
            "           [-6.7839e-01, -1.0783e-01,  4.5629e-01],\n",
            "           [-5.6022e-01,  3.5014e-01,  4.5026e-01],\n",
            "           ...,\n",
            "           [-3.3303e-01, -1.3728e+00,  2.0604e+00],\n",
            "           [ 1.1677e+00, -1.4920e+00,  8.7476e-01],\n",
            "           [-5.5047e-01,  1.6184e-04,  7.0192e-01]],\n",
            "\n",
            "          [[-5.4431e-01,  1.4386e+00,  2.2215e-04],\n",
            "           [ 8.9691e-01, -2.4108e-02, -2.8141e-01],\n",
            "           [-7.0851e-01, -7.3166e-01, -9.2538e-01],\n",
            "           ...,\n",
            "           [-1.2379e+00,  8.1289e-01,  1.3201e-01],\n",
            "           [ 1.1317e+00, -2.3599e-01, -5.2068e-01],\n",
            "           [-2.6413e-01, -2.2738e-01, -2.0180e+00]]],\n",
            "\n",
            "\n",
            "         [[[-1.1463e+00,  1.8098e+00,  2.1723e+00],\n",
            "           [-4.0497e-02,  1.0712e+00,  9.2301e-01],\n",
            "           [-2.3376e+00, -6.0710e-01,  2.1480e+00],\n",
            "           ...,\n",
            "           [ 6.7839e-01, -1.4629e+00,  7.3448e-03],\n",
            "           [-1.3611e+00, -9.1503e-01,  2.4631e+00],\n",
            "           [-6.4290e-01,  1.3389e+00,  9.7042e-01]],\n",
            "\n",
            "          [[-1.0050e+00, -1.2665e+00,  4.9268e-01],\n",
            "           [-1.6155e+00, -1.0521e+00,  6.7764e-01],\n",
            "           [ 2.1321e-03,  4.2708e-02, -6.5659e-01],\n",
            "           ...,\n",
            "           [ 2.1456e-01,  9.8489e-01,  3.6620e-01],\n",
            "           [ 1.9360e+00, -4.7602e-02,  9.5865e-01],\n",
            "           [-8.1090e-01, -2.7026e-02, -1.6473e-01]],\n",
            "\n",
            "          [[-7.2202e-01,  5.1920e-01,  1.5366e+00],\n",
            "           [-1.2306e+00,  2.1428e-01, -6.8519e-01],\n",
            "           [-8.0020e-01, -1.9707e-01, -3.6225e-01],\n",
            "           ...,\n",
            "           [-1.5348e-01, -1.0850e+00, -9.3066e-01],\n",
            "           [-7.1638e-01, -2.3494e+00, -3.7560e-01],\n",
            "           [-7.4578e-01,  1.0849e+00,  2.6510e+00]],\n",
            "\n",
            "          [[-4.0872e-02,  1.2159e+00,  5.6726e-01],\n",
            "           [-1.4577e+00, -3.7431e-01, -1.9662e-02],\n",
            "           [-3.3741e-01,  9.8190e-01, -8.8113e-01],\n",
            "           ...,\n",
            "           [ 4.9162e-01, -1.6308e-01, -9.3512e-01],\n",
            "           [ 2.0173e+00,  1.0172e+00, -1.5538e+00],\n",
            "           [ 1.4907e+00,  1.3666e-01,  1.1636e-01]],\n",
            "\n",
            "          [[ 3.6103e-01, -2.5564e+00,  2.3860e-01],\n",
            "           [-1.9000e-01, -3.6432e-01, -1.3510e-01],\n",
            "           [ 4.5553e-01, -2.5264e-01, -5.8500e-01],\n",
            "           ...,\n",
            "           [-3.4780e-01, -1.5157e+00, -1.1433e+00],\n",
            "           [-5.2466e-01,  7.9974e-01,  2.1601e+00],\n",
            "           [ 1.0872e+00, -7.1880e-01, -2.5185e+00]]]],\n",
            "\n",
            "\n",
            "\n",
            "        [[[[-1.6539e+00,  8.6558e-01, -2.7307e-01],\n",
            "           [-1.1659e+00, -1.6447e-01, -7.7397e-01],\n",
            "           [-5.9704e-01, -7.4105e-01, -1.3886e+00],\n",
            "           ...,\n",
            "           [ 1.6228e+00, -1.2038e+00, -2.2258e-02],\n",
            "           [-1.1191e+00, -4.8821e-01,  1.5172e+00],\n",
            "           [-7.3506e-01,  8.6063e-01,  3.4532e-01]],\n",
            "\n",
            "          [[-4.3748e-01,  9.7695e-01, -5.3268e-01],\n",
            "           [ 1.3549e-01,  1.2204e+00, -2.0991e-01],\n",
            "           [-5.3156e-01,  1.6633e+00,  3.9331e-01],\n",
            "           ...,\n",
            "           [-7.6697e-01, -1.2730e-01,  4.3252e-01],\n",
            "           [ 1.5260e+00, -1.1280e+00,  1.1329e+00],\n",
            "           [ 6.4785e-01,  9.1808e-01, -1.0627e+00]],\n",
            "\n",
            "          [[-1.7846e+00,  6.1467e-01,  2.6580e+00],\n",
            "           [-2.6347e-01, -2.2870e-01, -8.2514e-01],\n",
            "           [-2.6142e-01, -8.9320e-01, -7.9231e-02],\n",
            "           ...,\n",
            "           [ 2.2492e-01, -1.9444e+00, -2.4738e-01],\n",
            "           [-5.3417e-01,  3.4977e-01,  1.0957e+00],\n",
            "           [-3.1997e-01,  1.4889e+00, -8.7358e-02]],\n",
            "\n",
            "          [[ 2.1532e-01, -2.9437e-01, -1.8403e+00],\n",
            "           [-1.4916e-01, -8.1851e-01,  3.9465e-02],\n",
            "           [ 3.5428e-01, -9.1513e-01,  8.9753e-01],\n",
            "           ...,\n",
            "           [ 2.0785e+00,  1.2633e+00, -6.9438e-01],\n",
            "           [ 5.0724e-01,  6.8224e-01, -1.5095e+00],\n",
            "           [-2.1165e+00, -3.4025e-01, -3.7940e-01]],\n",
            "\n",
            "          [[ 6.3287e-01, -1.8059e-01, -9.5848e-01],\n",
            "           [ 4.9998e-01,  9.5998e-02, -9.3579e-01],\n",
            "           [ 8.8776e-01, -2.5562e+00,  9.1886e-01],\n",
            "           ...,\n",
            "           [ 1.1563e+00,  3.8274e-02,  1.4064e+00],\n",
            "           [ 1.6246e+00,  2.2226e-01,  8.2361e-01],\n",
            "           [-8.6577e-01, -1.0419e+00,  1.0714e+00]]],\n",
            "\n",
            "\n",
            "         [[[ 1.1074e-01, -6.0120e-01,  4.3687e-01],\n",
            "           [ 1.7552e+00,  5.0952e-01, -3.8448e-01],\n",
            "           [-5.0419e-01,  7.4366e-01, -8.7043e-01],\n",
            "           ...,\n",
            "           [ 9.1777e-01,  6.5815e-01, -2.1552e-01],\n",
            "           [-1.1905e-01,  6.5125e-01, -8.0042e-01],\n",
            "           [ 2.2010e-01, -8.9227e-01, -1.8861e+00]],\n",
            "\n",
            "          [[-2.3962e-02, -1.1959e-01, -1.5339e-01],\n",
            "           [ 1.8447e-01,  6.2022e-01, -1.1141e+00],\n",
            "           [-4.4962e-01,  6.2636e-01,  2.5480e-01],\n",
            "           ...,\n",
            "           [-1.0872e-01, -1.0175e+00,  1.7582e+00],\n",
            "           [-5.0892e-01, -7.5895e-01,  1.1302e+00],\n",
            "           [-1.1687e+00, -3.7047e-01, -1.3683e-01]],\n",
            "\n",
            "          [[-9.2029e-01, -6.7624e-01, -1.9511e+00],\n",
            "           [ 9.4981e-01, -1.7902e+00,  8.1324e-01],\n",
            "           [-2.6919e-01,  3.8223e-01, -5.5878e-02],\n",
            "           ...,\n",
            "           [-1.4026e+00,  1.6911e+00,  5.9474e-02],\n",
            "           [ 5.3832e-01, -2.5261e-01, -5.6718e-01],\n",
            "           [-9.6339e-02, -8.5928e-01, -1.1458e-01]],\n",
            "\n",
            "          [[ 9.6724e-01, -2.1859e-01, -1.0310e+00],\n",
            "           [ 2.7545e+00, -6.1212e-01, -1.1893e+00],\n",
            "           [ 1.0797e+00, -2.3662e+00, -1.1554e+00],\n",
            "           ...,\n",
            "           [-5.5369e-01, -6.2957e-01,  5.1593e-01],\n",
            "           [-3.7849e-01,  6.6683e-01,  1.0885e+00],\n",
            "           [-7.9926e-02,  8.1211e-01, -2.5538e-01]],\n",
            "\n",
            "          [[ 3.0502e-01, -4.8607e-01,  8.7258e-01],\n",
            "           [ 6.1558e-01,  3.1274e+00,  5.8266e-01],\n",
            "           [ 7.1205e-01, -1.1503e+00, -1.4598e+00],\n",
            "           ...,\n",
            "           [ 1.9624e-01, -8.2199e-01,  1.7290e+00],\n",
            "           [ 1.1796e+00,  8.7302e-02,  1.6410e+00],\n",
            "           [ 8.1182e-01, -5.0050e-01, -1.9198e+00]]],\n",
            "\n",
            "\n",
            "         [[[ 1.4203e+00, -2.8448e-01, -1.8986e-01],\n",
            "           [ 1.3232e+00, -1.9473e-01, -5.5218e-01],\n",
            "           [-2.8399e-01,  7.8928e-02, -9.7283e-01],\n",
            "           ...,\n",
            "           [ 1.3920e-02,  1.3208e+00,  6.1281e-01],\n",
            "           [ 1.5868e+00,  5.1035e-01,  6.0655e-01],\n",
            "           [-1.8921e+00, -9.8138e-01,  3.1600e-01]],\n",
            "\n",
            "          [[-9.2792e-01, -3.8490e-01, -8.9402e-01],\n",
            "           [-2.7878e-01,  5.7646e-01,  9.9939e-02],\n",
            "           [-7.4303e-01, -1.8721e+00, -1.7159e-01],\n",
            "           ...,\n",
            "           [-7.5158e-01, -2.7663e-01, -1.0668e+00],\n",
            "           [-2.0062e+00,  4.1845e-02,  7.3716e-01],\n",
            "           [-8.7736e-01,  8.4468e-01,  9.0297e-01]],\n",
            "\n",
            "          [[ 9.0439e-02, -3.6651e-01,  1.4068e+00],\n",
            "           [-6.2314e-01,  3.7218e-01,  2.3335e-01],\n",
            "           [-5.4192e-01, -2.0062e-01, -6.0654e-01],\n",
            "           ...,\n",
            "           [ 1.6794e+00,  3.0314e-02,  2.1175e+00],\n",
            "           [-1.1657e+00,  2.0499e-01, -1.6243e+00],\n",
            "           [-4.2848e-01, -4.2430e-01, -7.1480e-01]],\n",
            "\n",
            "          [[-1.9313e-01, -8.2022e-01,  1.0163e+00],\n",
            "           [-9.1072e-01, -1.4659e+00, -5.9049e-01],\n",
            "           [-6.6091e-02, -1.5916e+00,  9.6375e-02],\n",
            "           ...,\n",
            "           [ 3.8835e-01,  5.0860e-01,  9.1030e-01],\n",
            "           [ 5.2020e-01, -1.0124e-01,  2.0435e+00],\n",
            "           [ 4.2309e-01,  8.5604e-01,  3.2614e-02]],\n",
            "\n",
            "          [[-1.0844e+00, -8.9883e-01,  5.2368e-01],\n",
            "           [-9.0684e-01, -1.1877e+00, -1.9630e-01],\n",
            "           [ 8.0160e-02,  1.0454e-01, -1.4057e+00],\n",
            "           ...,\n",
            "           [-4.5226e-01, -5.7550e-01,  4.5199e-02],\n",
            "           [-1.1812e+00,  5.0155e-01,  5.2281e-01],\n",
            "           [-1.4911e+00,  3.8565e-01, -1.6762e-01]]]],\n",
            "\n",
            "\n",
            "\n",
            "        [[[[ 4.3289e-01, -7.0524e-01,  9.2749e-01],\n",
            "           [ 4.8130e-02, -1.4081e+00,  3.1047e-01],\n",
            "           [-1.1190e+00, -7.4072e-01, -4.8800e-01],\n",
            "           ...,\n",
            "           [ 8.8455e-02, -6.2094e-02,  1.6978e+00],\n",
            "           [-6.6776e-01, -1.3866e+00, -1.4071e+00],\n",
            "           [ 4.9503e-01,  7.1310e-01, -4.2425e-01]],\n",
            "\n",
            "          [[ 5.5177e-02, -7.6556e-01,  4.3892e-01],\n",
            "           [ 4.7866e-01, -4.2460e-01, -1.7542e-01],\n",
            "           [-1.2013e+00, -7.2524e-01, -9.3382e-01],\n",
            "           ...,\n",
            "           [ 2.6186e-01, -7.4720e-01,  8.9309e-01],\n",
            "           [ 1.9496e+00, -1.1315e-01, -9.6003e-01],\n",
            "           [ 1.4190e-02, -1.3969e-01,  1.5268e+00]],\n",
            "\n",
            "          [[ 3.7039e-01, -5.4275e-01, -3.3963e-02],\n",
            "           [-1.4943e+00,  1.0808e+00,  3.6518e-01],\n",
            "           [ 6.7124e-01, -1.4915e+00, -1.0297e+00],\n",
            "           ...,\n",
            "           [-3.5177e-01, -1.9123e-01,  1.7876e-01],\n",
            "           [-1.3328e+00, -1.2022e+00,  4.7448e-01],\n",
            "           [-8.9548e-01, -4.6364e-01, -1.5211e+00]],\n",
            "\n",
            "          [[ 7.9638e-01,  7.7031e-02,  2.0235e+00],\n",
            "           [ 6.3120e-01,  9.9914e-02,  1.0631e-01],\n",
            "           [ 1.6068e+00, -7.4024e-01,  9.2835e-01],\n",
            "           ...,\n",
            "           [-8.1511e-01, -3.6306e-01,  4.8445e-01],\n",
            "           [-3.8154e-01,  4.2898e-01, -5.2258e-01],\n",
            "           [ 7.1072e-02,  2.3580e-01,  3.2637e-01]],\n",
            "\n",
            "          [[ 7.6019e-01,  2.8049e-01,  2.3839e+00],\n",
            "           [ 3.1354e-01, -1.1507e+00, -1.0024e+00],\n",
            "           [ 3.6216e-01, -7.0300e-01, -2.1880e-01],\n",
            "           ...,\n",
            "           [ 1.3255e+00, -6.9926e-01, -6.6023e-01],\n",
            "           [-1.8260e+00, -8.9434e-02, -4.7491e-01],\n",
            "           [-8.2383e-01, -2.8008e-01,  5.5010e-02]]],\n",
            "\n",
            "\n",
            "         [[[-6.5944e-01, -1.0637e+00,  6.7064e-01],\n",
            "           [ 2.9862e-01,  1.4917e+00,  8.3126e-01],\n",
            "           [-7.6627e-01,  1.5634e+00, -1.5581e+00],\n",
            "           ...,\n",
            "           [-3.9255e-01,  5.4624e-01, -2.1416e-01],\n",
            "           [-4.2448e-01, -1.4215e+00,  9.7900e-01],\n",
            "           [ 1.2644e-01, -4.2796e-01, -3.0098e+00]],\n",
            "\n",
            "          [[ 1.3663e-01, -2.7446e-01,  1.9069e-01],\n",
            "           [ 1.8363e+00,  1.4240e+00, -1.2476e-01],\n",
            "           [-2.9895e-01,  3.8112e-01, -7.4732e-01],\n",
            "           ...,\n",
            "           [ 1.4358e+00,  1.2184e+00,  1.1793e+00],\n",
            "           [ 3.9006e-01,  1.2654e-01, -4.7862e-01],\n",
            "           [-2.6873e-01, -3.5997e-01, -1.9671e-01]],\n",
            "\n",
            "          [[-1.3051e+00, -1.4538e+00, -1.8404e-01],\n",
            "           [ 1.8896e+00,  7.1437e-01,  5.3580e-01],\n",
            "           [ 1.3843e+00, -9.1465e-01, -2.6920e-01],\n",
            "           ...,\n",
            "           [-8.7059e-01, -3.6598e-01, -1.3094e-01],\n",
            "           [ 3.1116e-01, -1.0435e+00, -2.7737e-01],\n",
            "           [-1.6659e+00,  1.0314e-01,  1.0387e+00]],\n",
            "\n",
            "          [[-1.1998e+00,  8.6299e-01, -1.0829e+00],\n",
            "           [ 2.9992e-01,  9.8287e-01, -6.8713e-01],\n",
            "           [-1.5914e+00, -9.7620e-02, -7.4083e-02],\n",
            "           ...,\n",
            "           [-8.0644e-01,  4.4861e-01,  8.1438e-02],\n",
            "           [ 1.1160e+00,  5.6259e-01,  1.2095e+00],\n",
            "           [ 5.9490e-02, -1.5235e-01, -3.9390e-01]],\n",
            "\n",
            "          [[ 1.7576e-01,  5.1259e-01,  9.9935e-01],\n",
            "           [ 6.3002e-01, -1.2259e+00,  1.0638e+00],\n",
            "           [-1.7285e+00,  5.2960e-01, -4.8597e-01],\n",
            "           ...,\n",
            "           [-1.2762e-01,  4.5546e-01, -3.1426e-01],\n",
            "           [-1.8927e-01, -3.8454e-01,  1.5121e+00],\n",
            "           [ 1.1473e+00, -1.9663e-01,  1.7706e-03]]],\n",
            "\n",
            "\n",
            "         [[[ 4.1753e-01, -1.8565e+00, -1.4344e+00],\n",
            "           [-4.1374e-01, -1.9121e+00,  3.0785e-01],\n",
            "           [ 9.5239e-01,  2.3143e+00, -1.1337e+00],\n",
            "           ...,\n",
            "           [-8.2111e-01, -8.6824e-01, -7.4641e-01],\n",
            "           [ 3.0450e-01, -2.2084e-01,  1.1264e+00],\n",
            "           [ 9.4807e-01,  2.9818e-01,  1.7287e+00]],\n",
            "\n",
            "          [[-2.7017e-01, -9.5486e-01,  9.2770e-01],\n",
            "           [ 5.1620e-01,  9.1486e-01,  4.6697e-01],\n",
            "           [-3.8334e-01, -1.9062e+00,  8.1700e-01],\n",
            "           ...,\n",
            "           [-1.0558e+00,  1.3167e+00, -8.7669e-01],\n",
            "           [-8.6536e-01, -4.3586e-01,  3.4176e-01],\n",
            "           [ 3.7562e-01,  2.5057e+00, -1.0661e+00]],\n",
            "\n",
            "          [[ 7.7781e-01,  2.4083e-01, -7.9993e-01],\n",
            "           [-8.8797e-01,  1.2833e+00, -8.0855e-01],\n",
            "           [-2.0429e+00, -6.6968e-01, -2.9400e-01],\n",
            "           ...,\n",
            "           [-8.6870e-01,  1.2168e+00, -1.4168e-01],\n",
            "           [-1.8073e-01, -1.3767e+00,  2.0100e+00],\n",
            "           [ 1.2281e+00,  8.8288e-01, -3.0594e-01]],\n",
            "\n",
            "          [[-4.2724e-01, -2.5510e-01, -6.9820e-01],\n",
            "           [-9.9447e-01, -1.1908e+00,  9.7072e-01],\n",
            "           [ 1.7233e+00,  1.0697e+00, -1.7890e+00],\n",
            "           ...,\n",
            "           [-3.4992e-01, -1.1270e-01,  2.5876e-01],\n",
            "           [ 1.4378e-01, -4.9086e-01,  8.5655e-01],\n",
            "           [-3.7953e-01,  5.6559e-01, -3.4712e-01]],\n",
            "\n",
            "          [[ 4.2016e-01, -8.5206e-01,  5.6770e-01],\n",
            "           [-6.6675e-01,  3.3270e-01,  3.0388e-01],\n",
            "           [-6.9454e-01,  5.4423e-01,  7.5417e-02],\n",
            "           ...,\n",
            "           [-1.3467e+00, -1.3568e+00, -6.5489e-01],\n",
            "           [-3.4860e-01,  4.0674e-01, -1.1576e+00],\n",
            "           [-8.5419e-01, -3.7940e-01,  4.9879e-01]]]]])\n"
          ]
        }
      ]
    },
    {
      "cell_type": "code",
      "source": [
        "sliced_tensor_5d = tensor_5d.narrow(2,0,2).narrow(3,0,1)\n",
        "#a partir da dimensao de indice 2, retorne as dimensoes entre\n",
        "#indices de 0 a 2. faça isso em todas as posições e colocações.\n",
        "#depois disso, a partir da dimensao de indice 3,\n",
        "#retorne as dimensoes de indices de 0 a 1\n"
      ],
      "metadata": {
        "id": "0IWwsuxknCLB"
      },
      "execution_count": 75,
      "outputs": []
    },
    {
      "cell_type": "code",
      "source": [
        "sliced_tensor_5d.shape"
      ],
      "metadata": {
        "colab": {
          "base_uri": "https://localhost:8080/"
        },
        "id": "za7WjDQZnjX3",
        "outputId": "1a3d8d51-d762-470b-a4e9-6e699bd69f0c"
      },
      "execution_count": 76,
      "outputs": [
        {
          "output_type": "execute_result",
          "data": {
            "text/plain": [
              "torch.Size([4, 3, 2, 1, 3])"
            ]
          },
          "metadata": {},
          "execution_count": 76
        }
      ]
    },
    {
      "cell_type": "code",
      "source": [
        "print(sliced_tensor_5d)"
      ],
      "metadata": {
        "colab": {
          "base_uri": "https://localhost:8080/"
        },
        "id": "BjEyuCZwnmEC",
        "outputId": "589c45ed-842a-45f7-efc6-f7eb03034629"
      },
      "execution_count": 77,
      "outputs": [
        {
          "output_type": "stream",
          "name": "stdout",
          "text": [
            "tensor([[[[[-1.4609e+00,  7.5284e-01,  7.8715e-01]],\n",
            "\n",
            "          [[ 1.8371e+00, -3.5801e-01,  1.9123e-01]]],\n",
            "\n",
            "\n",
            "         [[[-2.0924e+00, -7.6374e-02,  6.0525e-01]],\n",
            "\n",
            "          [[-1.1573e+00, -4.9814e-02,  1.5634e+00]]],\n",
            "\n",
            "\n",
            "         [[[ 5.9718e-01,  6.7312e-01, -4.0792e-01]],\n",
            "\n",
            "          [[-1.0041e+00,  6.8629e-01,  2.6605e-01]]]],\n",
            "\n",
            "\n",
            "\n",
            "        [[[[ 2.3882e-01,  5.5173e-01, -2.7778e-01]],\n",
            "\n",
            "          [[-1.4953e+00,  2.1872e-03, -1.6831e-03]]],\n",
            "\n",
            "\n",
            "         [[[ 2.7022e-01,  9.3350e-01, -9.8980e-01]],\n",
            "\n",
            "          [[ 6.3325e-01, -1.7086e-01, -3.4387e-01]]],\n",
            "\n",
            "\n",
            "         [[[-1.1463e+00,  1.8098e+00,  2.1723e+00]],\n",
            "\n",
            "          [[-1.0050e+00, -1.2665e+00,  4.9268e-01]]]],\n",
            "\n",
            "\n",
            "\n",
            "        [[[[-1.6539e+00,  8.6558e-01, -2.7307e-01]],\n",
            "\n",
            "          [[-4.3748e-01,  9.7695e-01, -5.3268e-01]]],\n",
            "\n",
            "\n",
            "         [[[ 1.1074e-01, -6.0120e-01,  4.3687e-01]],\n",
            "\n",
            "          [[-2.3962e-02, -1.1959e-01, -1.5339e-01]]],\n",
            "\n",
            "\n",
            "         [[[ 1.4203e+00, -2.8448e-01, -1.8986e-01]],\n",
            "\n",
            "          [[-9.2792e-01, -3.8490e-01, -8.9402e-01]]]],\n",
            "\n",
            "\n",
            "\n",
            "        [[[[ 4.3289e-01, -7.0524e-01,  9.2749e-01]],\n",
            "\n",
            "          [[ 5.5177e-02, -7.6556e-01,  4.3892e-01]]],\n",
            "\n",
            "\n",
            "         [[[-6.5944e-01, -1.0637e+00,  6.7064e-01]],\n",
            "\n",
            "          [[ 1.3663e-01, -2.7446e-01,  1.9069e-01]]],\n",
            "\n",
            "\n",
            "         [[[ 4.1753e-01, -1.8565e+00, -1.4344e+00]],\n",
            "\n",
            "          [[-2.7017e-01, -9.5486e-01,  9.2770e-01]]]]])\n"
          ]
        }
      ]
    },
    {
      "cell_type": "code",
      "source": [
        "#cria 1 tensor de dimensoes 2x3\n",
        "t1 = torch.Tensor(2,3)\n",
        "t1.shape"
      ],
      "metadata": {
        "colab": {
          "base_uri": "https://localhost:8080/"
        },
        "id": "z4YlyaEmnooD",
        "outputId": "271b61cf-1a17-47d4-ad70-8f491e05d3fb"
      },
      "execution_count": 78,
      "outputs": [
        {
          "output_type": "execute_result",
          "data": {
            "text/plain": [
              "torch.Size([2, 3])"
            ]
          },
          "metadata": {},
          "execution_count": 78
        }
      ]
    },
    {
      "cell_type": "code",
      "source": [
        "print(t1)"
      ],
      "metadata": {
        "colab": {
          "base_uri": "https://localhost:8080/"
        },
        "id": "8uUOK8lVny_X",
        "outputId": "a599e16c-fe58-4ab4-8896-33588ba3163b"
      },
      "execution_count": 79,
      "outputs": [
        {
          "output_type": "stream",
          "name": "stdout",
          "text": [
            "tensor([[3.4840e+34, 3.2160e-41, 0.0000e+00],\n",
            "        [0.0000e+00, 1.4013e-45, 0.0000e+00]])\n"
          ]
        }
      ]
    },
    {
      "cell_type": "code",
      "source": [
        "t2 = torch.rand(2,3)\n",
        "t2.shape"
      ],
      "metadata": {
        "colab": {
          "base_uri": "https://localhost:8080/"
        },
        "id": "6GN-K_8mn0te",
        "outputId": "80462daf-321a-42ce-c160-a7367518f5c3"
      },
      "execution_count": 80,
      "outputs": [
        {
          "output_type": "execute_result",
          "data": {
            "text/plain": [
              "torch.Size([2, 3])"
            ]
          },
          "metadata": {},
          "execution_count": 80
        }
      ]
    },
    {
      "cell_type": "code",
      "source": [
        "print(t2)"
      ],
      "metadata": {
        "colab": {
          "base_uri": "https://localhost:8080/"
        },
        "id": "XwnAUxbDn5nZ",
        "outputId": "089b863c-bb28-438e-9b3c-890d4afa5899"
      },
      "execution_count": 81,
      "outputs": [
        {
          "output_type": "stream",
          "name": "stdout",
          "text": [
            "tensor([[0.0245, 0.0339, 0.9955],\n",
            "        [0.7114, 0.6539, 0.6480]])\n"
          ]
        }
      ]
    },
    {
      "cell_type": "code",
      "source": [
        "#cria 2 tensores\n",
        "x = torch.rand(2,3)\n",
        "y = torch.rand(2,3)"
      ],
      "metadata": {
        "id": "RV5LEqaDn6uY"
      },
      "execution_count": 82,
      "outputs": []
    },
    {
      "cell_type": "code",
      "source": [
        "z1 = x + y\n",
        "print(z1)"
      ],
      "metadata": {
        "colab": {
          "base_uri": "https://localhost:8080/"
        },
        "id": "xnYbh4aGoBcV",
        "outputId": "18cdc0d9-4450-4fde-8132-a4bb7a30a4b8"
      },
      "execution_count": 83,
      "outputs": [
        {
          "output_type": "stream",
          "name": "stdout",
          "text": [
            "tensor([[1.1690, 0.4706, 0.9240],\n",
            "        [0.4824, 1.6059, 0.6935]])\n"
          ]
        }
      ]
    },
    {
      "cell_type": "code",
      "source": [
        "#operação da soma\n",
        "z2 = torch.add(x,y)\n",
        "print(z2)"
      ],
      "metadata": {
        "colab": {
          "base_uri": "https://localhost:8080/"
        },
        "id": "1ymK2_0UoD-Q",
        "outputId": "adc373bc-0034-4fdd-8a3a-bdcff8fda2ac"
      },
      "execution_count": 84,
      "outputs": [
        {
          "output_type": "stream",
          "name": "stdout",
          "text": [
            "tensor([[1.1690, 0.4706, 0.9240],\n",
            "        [0.4824, 1.6059, 0.6935]])\n"
          ]
        }
      ]
    },
    {
      "cell_type": "code",
      "source": [
        "v1 = torch.Tensor(2,3)\n",
        "print(v1)\n",
        "#podemos atribuir o resultado da operação a uma variavel."
      ],
      "metadata": {
        "colab": {
          "base_uri": "https://localhost:8080/"
        },
        "id": "XKzI1Ly0oEKa",
        "outputId": "133f8c8c-9d67-4f10-8eb6-3aed1c0b48fa"
      },
      "execution_count": 85,
      "outputs": [
        {
          "output_type": "stream",
          "name": "stdout",
          "text": [
            "tensor([[-1.7183e+04,  4.4197e-41, -1.1756e+21],\n",
            "        [ 3.2156e-41,  4.4842e-44,  0.0000e+00]])\n"
          ]
        }
      ]
    },
    {
      "cell_type": "code",
      "source": [
        "torch.add(x,y,out = v1)"
      ],
      "metadata": {
        "colab": {
          "base_uri": "https://localhost:8080/"
        },
        "id": "XydufxbYoEWl",
        "outputId": "5f29913c-60df-4c2f-9073-48ce7b647b6f"
      },
      "execution_count": 86,
      "outputs": [
        {
          "output_type": "execute_result",
          "data": {
            "text/plain": [
              "tensor([[1.1690, 0.4706, 0.9240],\n",
              "        [0.4824, 1.6059, 0.6935]])"
            ]
          },
          "metadata": {},
          "execution_count": 86
        }
      ]
    },
    {
      "cell_type": "code",
      "source": [
        "print(v1)"
      ],
      "metadata": {
        "colab": {
          "base_uri": "https://localhost:8080/"
        },
        "id": "i2gPHZPZoEiV",
        "outputId": "38b9e120-3912-4b37-8bd5-bbc1f49d6e3e"
      },
      "execution_count": 87,
      "outputs": [
        {
          "output_type": "stream",
          "name": "stdout",
          "text": [
            "tensor([[1.1690, 0.4706, 0.9240],\n",
            "        [0.4824, 1.6059, 0.6935]])\n"
          ]
        }
      ]
    },
    {
      "cell_type": "code",
      "source": [
        "x.add_(y)\n",
        "#in-place operation\n",
        "#mesmo que: x = x + y"
      ],
      "metadata": {
        "colab": {
          "base_uri": "https://localhost:8080/"
        },
        "id": "PCZB43YAoFdK",
        "outputId": "5cd700ac-201e-408e-c790-30acf02c3c45"
      },
      "execution_count": 88,
      "outputs": [
        {
          "output_type": "execute_result",
          "data": {
            "text/plain": [
              "tensor([[1.1690, 0.4706, 0.9240],\n",
              "        [0.4824, 1.6059, 0.6935]])"
            ]
          },
          "metadata": {},
          "execution_count": 88
        }
      ]
    },
    {
      "cell_type": "markdown",
      "source": [
        "#O padrão de indexação no PyTorch é o mesmo usado no NumPy.\n",
        "---\n"
      ],
      "metadata": {
        "id": "_auKUNeDpk64"
      }
    },
    {
      "cell_type": "code",
      "source": [
        "#indexação (mesmo padrão do NumPy)\n",
        "x[:,1]\n",
        "x[:,0] = 0\n",
        "print(x)"
      ],
      "metadata": {
        "colab": {
          "base_uri": "https://localhost:8080/"
        },
        "id": "ohHRtRDdrNo3",
        "outputId": "0cce0752-4279-4cd8-bdc4-c69a83f20ad8"
      },
      "execution_count": 89,
      "outputs": [
        {
          "output_type": "stream",
          "name": "stdout",
          "text": [
            "tensor([[0.0000, 0.4706, 0.9240],\n",
            "        [0.0000, 1.6059, 0.6935]])\n"
          ]
        }
      ]
    },
    {
      "cell_type": "code",
      "source": [
        "#adiciona o valor 10 a todos os elementos do Tensor x\n",
        "r = torch.add(x, 10)\n",
        "print(r)"
      ],
      "metadata": {
        "colab": {
          "base_uri": "https://localhost:8080/"
        },
        "id": "OdVQBckyrfBc",
        "outputId": "29299593-a423-481c-95f3-d13b6ffc2052"
      },
      "execution_count": 90,
      "outputs": [
        {
          "output_type": "stream",
          "name": "stdout",
          "text": [
            "tensor([[10.0000, 10.4706, 10.9240],\n",
            "        [10.0000, 11.6059, 10.6935]])\n"
          ]
        }
      ]
    },
    {
      "cell_type": "code",
      "source": [
        "#criando tensores com range de valores\n",
        "v = torch.arange(5)\n",
        "#similar a range(5) mas criando um Tensor\n",
        "v = torch.arange(0,5,step = 1)\n",
        "#size 5. similar a range(0,5,1)"
      ],
      "metadata": {
        "id": "d85zD0mhrr8_"
      },
      "execution_count": 91,
      "outputs": []
    },
    {
      "cell_type": "code",
      "source": [
        "#cria um tensor de 1 dimensão\n",
        "v = torch.arange(9)"
      ],
      "metadata": {
        "id": "xi_R6_pXtLz0"
      },
      "execution_count": 92,
      "outputs": []
    },
    {
      "cell_type": "code",
      "source": [
        "print(v)"
      ],
      "metadata": {
        "colab": {
          "base_uri": "https://localhost:8080/"
        },
        "id": "QTDWJtLNtRQp",
        "outputId": "c4fce9d8-df31-4989-88c3-452d27302d96"
      },
      "execution_count": 93,
      "outputs": [
        {
          "output_type": "stream",
          "name": "stdout",
          "text": [
            "tensor([0, 1, 2, 3, 4, 5, 6, 7, 8])\n"
          ]
        }
      ]
    },
    {
      "cell_type": "code",
      "source": [
        "v.shape"
      ],
      "metadata": {
        "colab": {
          "base_uri": "https://localhost:8080/"
        },
        "id": "3xnAW0X_tSAh",
        "outputId": "629bdcbf-a7d9-4d85-e430-db98168dbfad"
      },
      "execution_count": 94,
      "outputs": [
        {
          "output_type": "execute_result",
          "data": {
            "text/plain": [
              "torch.Size([9])"
            ]
          },
          "metadata": {},
          "execution_count": 94
        }
      ]
    },
    {
      "cell_type": "code",
      "source": [
        "v.dim()"
      ],
      "metadata": {
        "colab": {
          "base_uri": "https://localhost:8080/"
        },
        "id": "HxIYRm1_tTgW",
        "outputId": "61685741-2ab6-4526-b1e0-ec58970ffe02"
      },
      "execution_count": 95,
      "outputs": [
        {
          "output_type": "execute_result",
          "data": {
            "text/plain": [
              "1"
            ]
          },
          "metadata": {},
          "execution_count": 95
        }
      ]
    },
    {
      "cell_type": "code",
      "source": [
        "#converte o vetor v para duas dimensoes\n",
        "v = v.view(3,3)\n",
        "print(v)"
      ],
      "metadata": {
        "colab": {
          "base_uri": "https://localhost:8080/"
        },
        "id": "LKW8dHKCtV_z",
        "outputId": "e3a3c2b7-e496-429f-a509-4b3997725dba"
      },
      "execution_count": 96,
      "outputs": [
        {
          "output_type": "stream",
          "name": "stdout",
          "text": [
            "tensor([[0, 1, 2],\n",
            "        [3, 4, 5],\n",
            "        [6, 7, 8]])\n"
          ]
        }
      ]
    },
    {
      "cell_type": "code",
      "source": [
        "v.shape"
      ],
      "metadata": {
        "colab": {
          "base_uri": "https://localhost:8080/"
        },
        "id": "BGO4Yt7ZtbMR",
        "outputId": "595b47c3-9ff7-4269-d20e-4278713eb51f"
      },
      "execution_count": 97,
      "outputs": [
        {
          "output_type": "execute_result",
          "data": {
            "text/plain": [
              "torch.Size([3, 3])"
            ]
          },
          "metadata": {},
          "execution_count": 97
        }
      ]
    },
    {
      "cell_type": "code",
      "source": [
        "v.dim()"
      ],
      "metadata": {
        "colab": {
          "base_uri": "https://localhost:8080/"
        },
        "id": "op0oB6IUt6_J",
        "outputId": "37d6ef0d-fa18-4af2-a0a3-cc87ed4b617d"
      },
      "execution_count": 98,
      "outputs": [
        {
          "output_type": "execute_result",
          "data": {
            "text/plain": [
              "2"
            ]
          },
          "metadata": {},
          "execution_count": 98
        }
      ]
    },
    {
      "cell_type": "code",
      "source": [
        "#inicializa um tensor linear\n",
        "#cria um tensor com 10 pontos lineares de (1,10)\n",
        "#inclusive\n",
        "v = torch.linspace(1,10,steps = 10)\n",
        "print(v)"
      ],
      "metadata": {
        "colab": {
          "base_uri": "https://localhost:8080/"
        },
        "id": "nIM8SL2Et9wv",
        "outputId": "915e3e53-c189-45ce-da5b-3ea4b7639b2e"
      },
      "execution_count": 99,
      "outputs": [
        {
          "output_type": "stream",
          "name": "stdout",
          "text": [
            "tensor([ 1.,  2.,  3.,  4.,  5.,  6.,  7.,  8.,  9., 10.])\n"
          ]
        }
      ]
    },
    {
      "cell_type": "code",
      "source": [
        "v = torch.logspace(start = -10, end = 10, steps = 5)\n",
        "print(v)"
      ],
      "metadata": {
        "colab": {
          "base_uri": "https://localhost:8080/"
        },
        "id": "OOlRZKHDuM5J",
        "outputId": "349b2a1d-af81-4e3f-a262-abcf15455128"
      },
      "execution_count": 100,
      "outputs": [
        {
          "output_type": "stream",
          "name": "stdout",
          "text": [
            "tensor([1.0000e-10, 1.0000e-05, 1.0000e+00, 1.0000e+05, 1.0000e+10])\n"
          ]
        }
      ]
    },
    {
      "cell_type": "code",
      "source": [
        "#cria um tensor de valores absolutos\n",
        "f = torch.FloatTensor([-1,-2,3])\n",
        "r = torch.abs(f)\n",
        "print(r)"
      ],
      "metadata": {
        "colab": {
          "base_uri": "https://localhost:8080/"
        },
        "id": "Swerk7zpuVO7",
        "outputId": "c76d5481-0dda-4f90-94e9-5dfbdcaddf64"
      },
      "execution_count": 101,
      "outputs": [
        {
          "output_type": "stream",
          "name": "stdout",
          "text": [
            "tensor([1., 2., 3.])\n"
          ]
        }
      ]
    },
    {
      "cell_type": "code",
      "source": [
        "#mais operações (calculando estatisticas dos tensores)\n",
        "x = torch.Tensor([[1,2,3],[4,5,6],[7,8,9]])\n",
        "print(x)\n",
        "print(x.dim())\n",
        "print(x.dtype)"
      ],
      "metadata": {
        "colab": {
          "base_uri": "https://localhost:8080/"
        },
        "id": "J26WbIO6ujBj",
        "outputId": "172e76b6-13e3-4c6c-ad3f-10d1b4d15952"
      },
      "execution_count": 102,
      "outputs": [
        {
          "output_type": "stream",
          "name": "stdout",
          "text": [
            "tensor([[1., 2., 3.],\n",
            "        [4., 5., 6.],\n",
            "        [7., 8., 9.]])\n",
            "2\n",
            "torch.float32\n"
          ]
        }
      ]
    },
    {
      "cell_type": "code",
      "source": [
        "#soma acumulada por coluna\n",
        "r = torch.cumsum(x, dim = 0)\n",
        "print(r)"
      ],
      "metadata": {
        "colab": {
          "base_uri": "https://localhost:8080/"
        },
        "id": "Gl9sCUXfvHaO",
        "outputId": "18bb8eb3-550f-481b-9133-134135dd9fb0"
      },
      "execution_count": 103,
      "outputs": [
        {
          "output_type": "stream",
          "name": "stdout",
          "text": [
            "tensor([[ 1.,  2.,  3.],\n",
            "        [ 5.,  7.,  9.],\n",
            "        [12., 15., 18.]])\n"
          ]
        }
      ]
    },
    {
      "cell_type": "code",
      "source": [
        "print(x)"
      ],
      "metadata": {
        "colab": {
          "base_uri": "https://localhost:8080/"
        },
        "id": "bIKVhIvovP1j",
        "outputId": "3d242877-2682-42e0-a569-dea1240fea2d"
      },
      "execution_count": 104,
      "outputs": [
        {
          "output_type": "stream",
          "name": "stdout",
          "text": [
            "tensor([[1., 2., 3.],\n",
            "        [4., 5., 6.],\n",
            "        [7., 8., 9.]])\n"
          ]
        }
      ]
    },
    {
      "cell_type": "code",
      "source": [
        "#media dos valores do tensor\n",
        "r = torch.mean(x)\n",
        "print(r)"
      ],
      "metadata": {
        "colab": {
          "base_uri": "https://localhost:8080/"
        },
        "id": "WRlfIgx5vWtA",
        "outputId": "62f8fe98-fd61-4635-a992-5ff6a13666e9"
      },
      "execution_count": 105,
      "outputs": [
        {
          "output_type": "stream",
          "name": "stdout",
          "text": [
            "tensor(5.)\n"
          ]
        }
      ]
    },
    {
      "cell_type": "code",
      "source": [
        "print(x)"
      ],
      "metadata": {
        "colab": {
          "base_uri": "https://localhost:8080/"
        },
        "id": "0CgGdzhIvfkK",
        "outputId": "cb965d73-4376-4880-f46b-76194555dab1"
      },
      "execution_count": 106,
      "outputs": [
        {
          "output_type": "stream",
          "name": "stdout",
          "text": [
            "tensor([[1., 2., 3.],\n",
            "        [4., 5., 6.],\n",
            "        [7., 8., 9.]])\n"
          ]
        }
      ]
    },
    {
      "cell_type": "code",
      "source": [
        "#media por coluna\n",
        "r = torch.mean(x,0)\n",
        "print(r)"
      ],
      "metadata": {
        "colab": {
          "base_uri": "https://localhost:8080/"
        },
        "id": "lj58-a4lvj3E",
        "outputId": "14b2045a-a781-4a1c-c08b-82f3f0a40ec8"
      },
      "execution_count": 107,
      "outputs": [
        {
          "output_type": "stream",
          "name": "stdout",
          "text": [
            "tensor([4., 5., 6.])\n"
          ]
        }
      ]
    },
    {
      "cell_type": "code",
      "source": [
        "#media por linha\n",
        "r = torch.mean(x,1)\n",
        "print(r)"
      ],
      "metadata": {
        "colab": {
          "base_uri": "https://localhost:8080/"
        },
        "id": "LcDenPlgvp-a",
        "outputId": "ee60f2d5-fb1d-4e56-ea59-ffdefce5078f"
      },
      "execution_count": 108,
      "outputs": [
        {
          "output_type": "stream",
          "name": "stdout",
          "text": [
            "tensor([2., 5., 8.])\n"
          ]
        }
      ]
    },
    {
      "cell_type": "code",
      "source": [
        "#media por linha\n",
        "x.mean(dim=1)"
      ],
      "metadata": {
        "colab": {
          "base_uri": "https://localhost:8080/"
        },
        "id": "T2NCJHDyvzBZ",
        "outputId": "d694d20c-06b0-4735-9a11-d2e685de3afa"
      },
      "execution_count": 109,
      "outputs": [
        {
          "output_type": "execute_result",
          "data": {
            "text/plain": [
              "tensor([2., 5., 8.])"
            ]
          },
          "metadata": {},
          "execution_count": 109
        }
      ]
    },
    {
      "cell_type": "code",
      "source": [
        "print(x)"
      ],
      "metadata": {
        "colab": {
          "base_uri": "https://localhost:8080/"
        },
        "id": "1HTgt2aJv5ce",
        "outputId": "ecbeabe6-2cab-4342-ce1d-a43b972100f2"
      },
      "execution_count": 110,
      "outputs": [
        {
          "output_type": "stream",
          "name": "stdout",
          "text": [
            "tensor([[1., 2., 3.],\n",
            "        [4., 5., 6.],\n",
            "        [7., 8., 9.]])\n"
          ]
        }
      ]
    },
    {
      "cell_type": "code",
      "source": [
        "#desvio padrao por linha\n",
        "x.std(dim = 1)"
      ],
      "metadata": {
        "colab": {
          "base_uri": "https://localhost:8080/"
        },
        "id": "jsv-ygyzv8kw",
        "outputId": "e99d7368-f1f8-466e-e4ac-b33559855591"
      },
      "execution_count": 111,
      "outputs": [
        {
          "output_type": "execute_result",
          "data": {
            "text/plain": [
              "tensor([1., 1., 1.])"
            ]
          },
          "metadata": {},
          "execution_count": 111
        }
      ]
    },
    {
      "cell_type": "code",
      "source": [
        "print(x)"
      ],
      "metadata": {
        "colab": {
          "base_uri": "https://localhost:8080/"
        },
        "id": "cpTJB9_5wCy3",
        "outputId": "7bfc84ac-57f7-49cb-a183-c89b19eb6549"
      },
      "execution_count": 112,
      "outputs": [
        {
          "output_type": "stream",
          "name": "stdout",
          "text": [
            "tensor([[1., 2., 3.],\n",
            "        [4., 5., 6.],\n",
            "        [7., 8., 9.]])\n"
          ]
        }
      ]
    },
    {
      "cell_type": "code",
      "source": [
        "#soma total\n",
        "r = torch.sum(x)\n",
        "print(r)"
      ],
      "metadata": {
        "colab": {
          "base_uri": "https://localhost:8080/"
        },
        "id": "mwIKAjyDwD_f",
        "outputId": "3a4cd10f-5e70-4c6a-b4fa-bae24d39e254"
      },
      "execution_count": 113,
      "outputs": [
        {
          "output_type": "stream",
          "name": "stdout",
          "text": [
            "tensor(45.)\n"
          ]
        }
      ]
    },
    {
      "cell_type": "code",
      "source": [
        "#soma por coluna\n",
        "r = torch.sum(x, 0)\n",
        "print(r)"
      ],
      "metadata": {
        "colab": {
          "base_uri": "https://localhost:8080/"
        },
        "id": "RtleY_DfwIdB",
        "outputId": "012b74fe-6044-4b97-fbad-b53ed1cef16a"
      },
      "execution_count": 114,
      "outputs": [
        {
          "output_type": "stream",
          "name": "stdout",
          "text": [
            "tensor([12., 15., 18.])\n"
          ]
        }
      ]
    },
    {
      "cell_type": "code",
      "source": [
        "#soma por linha\n",
        "r = torch.sum(x,1)\n",
        "print(r)"
      ],
      "metadata": {
        "colab": {
          "base_uri": "https://localhost:8080/"
        },
        "id": "21g0bdu1wRF4",
        "outputId": "34d6bcb4-c01e-4bf1-ab2f-0387e8ce07ae"
      },
      "execution_count": 115,
      "outputs": [
        {
          "output_type": "stream",
          "name": "stdout",
          "text": [
            "tensor([ 6., 15., 24.])\n"
          ]
        }
      ]
    },
    {
      "cell_type": "markdown",
      "source": [
        "#Multiplicação element-wise\n",
        "---\n"
      ],
      "metadata": {
        "id": "VGujQgNKwbVw"
      }
    },
    {
      "cell_type": "code",
      "source": [
        "#cria 2 tensores\n",
        "x = torch.Tensor([[1,2],[3,4]])\n",
        "y = torch.Tensor([[5,2],[4,5]])\n",
        "print(x)\n",
        "print('\\n')\n",
        "print(y)"
      ],
      "metadata": {
        "colab": {
          "base_uri": "https://localhost:8080/"
        },
        "id": "1Mus1Ib2wXDF",
        "outputId": "03deb484-6702-49a5-ce3a-a7b216e997cc"
      },
      "execution_count": 116,
      "outputs": [
        {
          "output_type": "stream",
          "name": "stdout",
          "text": [
            "tensor([[1., 2.],\n",
            "        [3., 4.]])\n",
            "\n",
            "\n",
            "tensor([[5., 2.],\n",
            "        [4., 5.]])\n"
          ]
        }
      ]
    },
    {
      "cell_type": "code",
      "source": [
        "#multiplicação element-wise\n",
        "r = torch.mul(x,y)\n",
        "print(r)"
      ],
      "metadata": {
        "colab": {
          "base_uri": "https://localhost:8080/"
        },
        "id": "Kts_CRmgwuAB",
        "outputId": "c6132df3-5504-4c9b-923c-0dcf311df775"
      },
      "execution_count": 117,
      "outputs": [
        {
          "output_type": "stream",
          "name": "stdout",
          "text": [
            "tensor([[ 5.,  4.],\n",
            "        [12., 20.]])\n"
          ]
        }
      ]
    },
    {
      "cell_type": "code",
      "source": [
        "#divisao element-wise\n",
        "r = torch.div(x,y)\n",
        "print(r)"
      ],
      "metadata": {
        "colab": {
          "base_uri": "https://localhost:8080/"
        },
        "id": "D8bswDjCw3gE",
        "outputId": "f526a30a-9a59-4527-c4ee-002be85dcc96"
      },
      "execution_count": 118,
      "outputs": [
        {
          "output_type": "stream",
          "name": "stdout",
          "text": [
            "tensor([[0.2000, 1.0000],\n",
            "        [0.7500, 0.8000]])\n"
          ]
        }
      ]
    },
    {
      "cell_type": "markdown",
      "source": [
        "#Multiplicaçao Dot Product\n",
        "---\n"
      ],
      "metadata": {
        "id": "rrDB3gvKw81y"
      }
    },
    {
      "cell_type": "code",
      "source": [
        "#cria 2 tensores\n",
        "t1 = torch.Tensor([4,2])\n",
        "t2 = torch.Tensor([3,1])\n",
        "print(t1)\n",
        "print(t2)"
      ],
      "metadata": {
        "colab": {
          "base_uri": "https://localhost:8080/"
        },
        "id": "gY8aChwOxEW8",
        "outputId": "1715fe33-3766-4cf4-f7c8-758c899d8481"
      },
      "execution_count": 119,
      "outputs": [
        {
          "output_type": "stream",
          "name": "stdout",
          "text": [
            "tensor([4., 2.])\n",
            "tensor([3., 1.])\n"
          ]
        }
      ]
    },
    {
      "cell_type": "code",
      "source": [
        "#dot product de 2 tensores\n",
        "r = torch.dot(t1,t2)\n",
        "print(r)"
      ],
      "metadata": {
        "colab": {
          "base_uri": "https://localhost:8080/"
        },
        "id": "n8XGpsm1xNYn",
        "outputId": "02994834-a526-4add-89f4-3bbd16bb5d26"
      },
      "execution_count": 120,
      "outputs": [
        {
          "output_type": "stream",
          "name": "stdout",
          "text": [
            "tensor(14.)\n"
          ]
        }
      ]
    },
    {
      "cell_type": "markdown",
      "source": [
        "#Multiplicação Cross Product\n",
        "---"
      ],
      "metadata": {
        "id": "qDM_2_AhxUNk"
      }
    },
    {
      "cell_type": "code",
      "source": [
        "#Matriz e vetor\n",
        "mat = torch.randn(2,4)\n",
        "vec = torch.randn(4)\n",
        "\n",
        "print(mat)\n",
        "print('\\n')\n",
        "print(vec)"
      ],
      "metadata": {
        "colab": {
          "base_uri": "https://localhost:8080/"
        },
        "id": "d1dH2sIjxhxv",
        "outputId": "845323aa-c43c-4c19-bbbc-9d001e72e7e9"
      },
      "execution_count": 121,
      "outputs": [
        {
          "output_type": "stream",
          "name": "stdout",
          "text": [
            "tensor([[-1.7080, -0.3037,  1.3164,  1.2044],\n",
            "        [ 1.2922,  1.1397, -1.2459, -0.3942]])\n",
            "\n",
            "\n",
            "tensor([-0.0451,  0.1341, -0.3346,  1.2914])\n"
          ]
        }
      ]
    },
    {
      "cell_type": "code",
      "source": [
        "#Multiplicação entre matriz e vetor\n",
        "# resultado size 2\n",
        "r = torch.mv(mat, vec)\n",
        "print(r)\n",
        "print(r.size())"
      ],
      "metadata": {
        "colab": {
          "base_uri": "https://localhost:8080/"
        },
        "id": "dhOMQr1GxtGa",
        "outputId": "0472e259-2920-47d5-e0c8-848d7bc88499"
      },
      "execution_count": 122,
      "outputs": [
        {
          "output_type": "stream",
          "name": "stdout",
          "text": [
            "tensor([1.1510, 0.0025])\n",
            "torch.Size([2])\n"
          ]
        }
      ]
    },
    {
      "cell_type": "code",
      "source": [
        "# Multiplicação entre matriz e vetor e ao resultado somamos\n",
        "#outro vetor\n",
        "#vetor + (matriz x vetor)\n",
        "#resultado size 2\n",
        "V = torch.randn(2)\n",
        "mat = torch.randn(2,3)\n",
        "vec = torch.randn(3)\n",
        "r = torch.addmv(V, mat,vec)\n",
        "print(r)\n",
        "print(r.size())"
      ],
      "metadata": {
        "colab": {
          "base_uri": "https://localhost:8080/"
        },
        "id": "1nKOVLndx52F",
        "outputId": "8b861fa1-0d01-453a-8b1e-0e88de86840b"
      },
      "execution_count": 124,
      "outputs": [
        {
          "output_type": "stream",
          "name": "stdout",
          "text": [
            "tensor([-0.7137,  2.5816])\n",
            "torch.Size([2])\n"
          ]
        }
      ]
    },
    {
      "cell_type": "code",
      "source": [
        "#multiplicação entre matrizes e\n",
        "#ao resultado soma-se outra matriz\n",
        "#matriz + (matriz x matriz)\n",
        "# resultado size 3 x 4\n",
        "M = torch.randn(3,4)\n",
        "mat1 = torch.randn(3,2)\n",
        "mat2 = torch.randn(2,4)\n",
        "r = torch.addmm(M, mat1, mat2)\n",
        "print(r.size())\n",
        "print(r)"
      ],
      "metadata": {
        "colab": {
          "base_uri": "https://localhost:8080/"
        },
        "id": "_Ct3BOdlyXW9",
        "outputId": "1c0f9003-0970-48c8-e586-1def91cc9d04"
      },
      "execution_count": 125,
      "outputs": [
        {
          "output_type": "stream",
          "name": "stdout",
          "text": [
            "torch.Size([3, 4])\n",
            "tensor([[-1.9635,  0.8962,  0.2762, -3.3896],\n",
            "        [ 1.2337,  1.1573,  1.8494, -4.9087],\n",
            "        [ 0.7420,  0.4702,  0.1721, -0.9900]])\n"
          ]
        }
      ]
    },
    {
      "cell_type": "markdown",
      "source": [
        "#Aplicação Prática das Operações com Tensores = Batch Matrix Multiplication\n",
        "---\n",
        "Uma importante arquitetura de Deep Learning, a seq2seq, será usada para demonstrar a operação a seguir. Essa arquitetura recebe como entrada uma sequência (de texto, por exemplo) e entrega uma sequência de saída. É bastante usada em modelos de tradução de idiomas.\n",
        "\n",
        "No modelo seq2seq, o encoder codifica as sequências de entrada fornecidas em mini-lotes. Digamos, por exemplo, a entrada é B x S x d, em que B é o tamanho do lote, S é o comprimento máximo da sequência e d é a dimensão do word embedding (matriz numérica com a representação dos dados de texto). Em seguida, a saída do encoder é B x S x h, em que h é o tamanho do estado oculto do encoder (que é uma RNN).\n",
        "\n",
        "Agora, durante a decodificação (durante o treinamento), as sequências de entrada são dadas uma de cada vez; portanto, a entrada é B x 1 x d e o decodificador produz um tensor de forma B x 1 x h. Para calcular o vetor de contexto, precisamos comparar esse decodificador de estado oculto com os estados codificados pelo encoder.\n",
        "\n",
        "Portanto, considere que você tem dois tensores da forma:\n",
        "\n",
        "- T1 = B x S x h\n",
        "- T2 = B x 1 x h\n",
        "\n",
        "Podemos então fazer a Multiplicação de Matriz em Batch (lote) da seguinte maneira:\n",
        "\n",
        "torch.bmm(T1, T2.transpose(1, 2))\n",
        "\n",
        "Executamos um *batch matrix-matrix product* de matrizes do lote1 e lote2, sendo que lote1 e lote2 devem ser tensores tridimensionais.\n",
        "\n",
        "Se o lote1 for um tensor (b × n × m), o lote2 for um tensor (b × m × p), a saída será um tensor (b × n × p). Abaixo a arquitetura do modelo.\n",
        "\n",
        "![](imagens/rnn.png)\n",
        "\n",
        "Essencialmente, você está multiplicando um tensor de forma B x S x h por um tensor de forma B x h x 1 e isso resultará em B x S x 1, que é o peso para cada lote.\n",
        "\n",
        "Aqui, os pesos B x S x 1 representam uma pontuação de similaridade entre o estado oculto atual do decodificador e todos os estados ocultos do codificador. Agora você pode levar em consideração os pesos para multiplicar com o estado oculto do codificador B x S x h, transpondo primeiro, e isso resultará em um tensor da forma B x h x 1. E se você pressionar em dim = 2, obterá um tensor de forma B x h, que é o seu vetor de contexto.\n",
        "\n",
        "Esse vetor de contexto (B x h) geralmente é concatenado ao estado oculto do decodificador (B x 1 x h, squeeze dim = 1) para prever o próximo token.\n",
        "\n",
        "Veremos essa arquitetura em projetos de Deep Learning."
      ],
      "metadata": {
        "id": "IuFsE7-KygvO"
      }
    },
    {
      "cell_type": "code",
      "source": [
        "#multiplicação de matrizes em batch(lote)\n",
        "# e o resultado somado à outra matriz\n",
        "#matriz + (batch x batch)\n",
        "# resultado size 3x2 = 3x2 + (5x3x4 + 5x4x2)\n",
        "\n",
        "M = torch.randn(3,2)\n",
        "batch1 = torch.randn(5,3,4)\n",
        "batch2 = torch.randn(5,4,2)\n",
        "r = torch.addbmm(M,batch1,batch2)\n",
        "print(r.size())\n",
        "print(r)"
      ],
      "metadata": {
        "colab": {
          "base_uri": "https://localhost:8080/"
        },
        "id": "t-fKSxJwyg-e",
        "outputId": "39592995-be67-40cb-c9c2-081f8000a2c0"
      },
      "execution_count": 126,
      "outputs": [
        {
          "output_type": "stream",
          "name": "stdout",
          "text": [
            "torch.Size([3, 2])\n",
            "tensor([[ 2.6613,  6.8174],\n",
            "        [-0.5882, -9.7570],\n",
            "        [-4.4978,  2.3842]])\n"
          ]
        }
      ]
    },
    {
      "cell_type": "markdown",
      "source": [
        "#Manipulação de Tensores(concatenação, expansao, junção, chunk, squeeze\n",
        "---\n",
        "\n"
      ],
      "metadata": {
        "id": "n1ht9ptwyhNz"
      }
    },
    {
      "cell_type": "code",
      "source": [
        "#matriz diagonal\n",
        "#size 3 x 3\n",
        "v = torch.ones(3)\n",
        "r = torch.diag(v)\n",
        "print(r.size())\n",
        "print(r)"
      ],
      "metadata": {
        "colab": {
          "base_uri": "https://localhost:8080/"
        },
        "id": "UqC43iNByhcc",
        "outputId": "220f6d26-f906-494f-e278-0ace1d57fa27"
      },
      "execution_count": 128,
      "outputs": [
        {
          "output_type": "stream",
          "name": "stdout",
          "text": [
            "torch.Size([3, 3])\n",
            "tensor([[1., 0., 0.],\n",
            "        [0., 1., 0.],\n",
            "        [0., 0., 1.]])\n"
          ]
        }
      ]
    },
    {
      "cell_type": "code",
      "source": [
        "#criando um tensor\n",
        "x = torch.tensor([[1],[2],[3]])\n",
        "x.size()"
      ],
      "metadata": {
        "colab": {
          "base_uri": "https://localhost:8080/"
        },
        "id": "JqsWGNd5yhp9",
        "outputId": "28481dd0-1e08-4356-d518-b63c3031da7b"
      },
      "execution_count": 130,
      "outputs": [
        {
          "output_type": "execute_result",
          "data": {
            "text/plain": [
              "torch.Size([3, 1])"
            ]
          },
          "metadata": {},
          "execution_count": 130
        }
      ]
    },
    {
      "cell_type": "code",
      "source": [
        "print(x)"
      ],
      "metadata": {
        "colab": {
          "base_uri": "https://localhost:8080/"
        },
        "id": "KU4uVZV9yh3o",
        "outputId": "aff10d75-bd03-428d-fa85-ba93b86216d5"
      },
      "execution_count": 131,
      "outputs": [
        {
          "output_type": "stream",
          "name": "stdout",
          "text": [
            "tensor([[1],\n",
            "        [2],\n",
            "        [3]])\n"
          ]
        }
      ]
    },
    {
      "cell_type": "code",
      "source": [
        "#expandindo\n",
        "x.expand(3,4)"
      ],
      "metadata": {
        "colab": {
          "base_uri": "https://localhost:8080/"
        },
        "id": "TpYQzvtJyjQU",
        "outputId": "e5add865-b84a-42a7-f38d-9f1f1eec48d3"
      },
      "execution_count": 132,
      "outputs": [
        {
          "output_type": "execute_result",
          "data": {
            "text/plain": [
              "tensor([[1, 1, 1, 1],\n",
              "        [2, 2, 2, 2],\n",
              "        [3, 3, 3, 3]])"
            ]
          },
          "metadata": {},
          "execution_count": 132
        }
      ]
    },
    {
      "cell_type": "code",
      "source": [
        "#definindo o tipo de tensor\n",
        "x = torch.randn(5,3).type(torch.FloatTensor)\n",
        "print(x)\n",
        "print(x.dtype)"
      ],
      "metadata": {
        "colab": {
          "base_uri": "https://localhost:8080/"
        },
        "id": "DjWM1Y8Myje9",
        "outputId": "10b79783-5a3f-409b-f99b-96637354374b"
      },
      "execution_count": 134,
      "outputs": [
        {
          "output_type": "stream",
          "name": "stdout",
          "text": [
            "tensor([[-1.1742,  0.1159, -1.4982],\n",
            "        [-0.3401,  0.1090,  1.5190],\n",
            "        [ 1.3366,  0.8195,  0.2307],\n",
            "        [ 0.1878,  0.0998,  0.2890],\n",
            "        [ 0.0293, -0.4515, -1.4612]])\n",
            "torch.float32\n"
          ]
        }
      ]
    },
    {
      "cell_type": "code",
      "source": [
        "#definindo o tipo de tensor\n",
        "y = torch.randn(5,3).type(torch.int8)\n",
        "print(y)\n",
        "print(y.dtype)"
      ],
      "metadata": {
        "colab": {
          "base_uri": "https://localhost:8080/"
        },
        "id": "gShYieFQyjwm",
        "outputId": "1bb1ff29-c3e6-4b7b-c373-3ec76d6fec7e"
      },
      "execution_count": 135,
      "outputs": [
        {
          "output_type": "stream",
          "name": "stdout",
          "text": [
            "tensor([[0, 0, 2],\n",
            "        [0, 0, 0],\n",
            "        [0, 1, 0],\n",
            "        [0, 0, 0],\n",
            "        [0, 0, 0]], dtype=torch.int8)\n",
            "torch.int8\n"
          ]
        }
      ]
    },
    {
      "cell_type": "code",
      "source": [
        "#converte o tensor com 9 elementos de 1 dimensao,\n",
        "# em um tensor de 9 elementos com duas dimensoes\n",
        "v = torch.arange(9)\n",
        "print(v)\n",
        "print(v.dim())"
      ],
      "metadata": {
        "colab": {
          "base_uri": "https://localhost:8080/"
        },
        "id": "SMgDCmBGykd1",
        "outputId": "612f795b-f707-4f24-a6a1-976ebea8ba91"
      },
      "execution_count": 138,
      "outputs": [
        {
          "output_type": "stream",
          "name": "stdout",
          "text": [
            "tensor([0, 1, 2, 3, 4, 5, 6, 7, 8])\n",
            "1\n"
          ]
        }
      ]
    },
    {
      "cell_type": "code",
      "source": [
        "v = v.view(3,3)\n",
        "print(v.dim())"
      ],
      "metadata": {
        "colab": {
          "base_uri": "https://localhost:8080/"
        },
        "id": "ilCPDq24ykvP",
        "outputId": "79d3a0a6-fe8a-40fe-90db-a74bcf281ecf"
      },
      "execution_count": 139,
      "outputs": [
        {
          "output_type": "stream",
          "name": "stdout",
          "text": [
            "2\n"
          ]
        }
      ]
    },
    {
      "cell_type": "code",
      "source": [
        "# tensor x\n",
        "x = torch.randn(5,3).type(torch.FloatTensor)\n",
        "print(x)\n",
        "print(x.dim())\n",
        "print(x.shape)"
      ],
      "metadata": {
        "colab": {
          "base_uri": "https://localhost:8080/"
        },
        "id": "YwEWWfjHyk-M",
        "outputId": "a76c8e34-5045-4787-9beb-b95ceaed2705"
      },
      "execution_count": 140,
      "outputs": [
        {
          "output_type": "stream",
          "name": "stdout",
          "text": [
            "tensor([[ 0.9734,  0.1802, -0.7776],\n",
            "        [-0.7608,  0.1587, -0.4039],\n",
            "        [-0.1303, -0.4785,  0.8419],\n",
            "        [-0.4071,  0.0386, -0.3622],\n",
            "        [ 0.2056,  0.1924,  0.1696]])\n",
            "2\n",
            "torch.Size([5, 3])\n"
          ]
        }
      ]
    },
    {
      "cell_type": "code",
      "source": [
        "#concatenação por linha\n",
        "x3_linha = torch.cat((x,x,x), 0)\n",
        "\n",
        "print(x3_linha)\n",
        "print(x3_linha.dim())\n",
        "print(x3_linha.shape)\n",
        "print(x3_linha.dtype)"
      ],
      "metadata": {
        "colab": {
          "base_uri": "https://localhost:8080/"
        },
        "id": "0dmNrpEYylKw",
        "outputId": "d5bc4c19-93e1-4556-985e-36e1a0c12f4d"
      },
      "execution_count": 141,
      "outputs": [
        {
          "output_type": "stream",
          "name": "stdout",
          "text": [
            "tensor([[ 0.9734,  0.1802, -0.7776],\n",
            "        [-0.7608,  0.1587, -0.4039],\n",
            "        [-0.1303, -0.4785,  0.8419],\n",
            "        [-0.4071,  0.0386, -0.3622],\n",
            "        [ 0.2056,  0.1924,  0.1696],\n",
            "        [ 0.9734,  0.1802, -0.7776],\n",
            "        [-0.7608,  0.1587, -0.4039],\n",
            "        [-0.1303, -0.4785,  0.8419],\n",
            "        [-0.4071,  0.0386, -0.3622],\n",
            "        [ 0.2056,  0.1924,  0.1696],\n",
            "        [ 0.9734,  0.1802, -0.7776],\n",
            "        [-0.7608,  0.1587, -0.4039],\n",
            "        [-0.1303, -0.4785,  0.8419],\n",
            "        [-0.4071,  0.0386, -0.3622],\n",
            "        [ 0.2056,  0.1924,  0.1696]])\n",
            "2\n",
            "torch.Size([15, 3])\n",
            "torch.float32\n"
          ]
        }
      ]
    },
    {
      "cell_type": "code",
      "source": [
        "# Vetor v\n",
        "v = v.view(3, 3)\n",
        "print(v)\n",
        "print(v.dim())\n",
        "print(v.shape)"
      ],
      "metadata": {
        "colab": {
          "base_uri": "https://localhost:8080/"
        },
        "id": "-FP7HjqXyle8",
        "outputId": "041e4ac4-fb06-4143-df3a-5d3b17f2d2a1"
      },
      "execution_count": 142,
      "outputs": [
        {
          "output_type": "stream",
          "name": "stdout",
          "text": [
            "tensor([[0, 1, 2],\n",
            "        [3, 4, 5],\n",
            "        [6, 7, 8]])\n",
            "2\n",
            "torch.Size([3, 3])\n"
          ]
        }
      ]
    },
    {
      "cell_type": "code",
      "source": [
        "# Stack\n",
        "v2 = torch.stack((v, v))\n",
        "print(v2)\n",
        "print(v2.dim())\n",
        "print(v2.shape)"
      ],
      "metadata": {
        "colab": {
          "base_uri": "https://localhost:8080/"
        },
        "id": "ym8bdfKGylpo",
        "outputId": "47333778-2317-48c4-f32b-750782876779"
      },
      "execution_count": 143,
      "outputs": [
        {
          "output_type": "stream",
          "name": "stdout",
          "text": [
            "tensor([[[0, 1, 2],\n",
            "         [3, 4, 5],\n",
            "         [6, 7, 8]],\n",
            "\n",
            "        [[0, 1, 2],\n",
            "         [3, 4, 5],\n",
            "         [6, 7, 8]]])\n",
            "3\n",
            "torch.Size([2, 3, 3])\n"
          ]
        }
      ]
    },
    {
      "cell_type": "code",
      "source": [
        "# Reorganizando os elementos\n",
        "torch.gather(v, 1, torch.LongTensor([[0,1],[1,0],[2,1]]))"
      ],
      "metadata": {
        "colab": {
          "base_uri": "https://localhost:8080/"
        },
        "id": "RAkk4NDw6qdf",
        "outputId": "c86b698f-d8d2-44fc-a4a3-8cb4d85d0e6a"
      },
      "execution_count": 144,
      "outputs": [
        {
          "output_type": "execute_result",
          "data": {
            "text/plain": [
              "tensor([[0, 1],\n",
              "        [4, 3],\n",
              "        [8, 7]])"
            ]
          },
          "metadata": {},
          "execution_count": 144
        }
      ]
    },
    {
      "cell_type": "code",
      "source": [
        "# Split do tensor\n",
        "torch.chunk(v, 3)"
      ],
      "metadata": {
        "colab": {
          "base_uri": "https://localhost:8080/"
        },
        "id": "Y6XQ6sYA65yw",
        "outputId": "c4a756f4-a465-47a1-a85a-a4381dbf8a7f"
      },
      "execution_count": 145,
      "outputs": [
        {
          "output_type": "execute_result",
          "data": {
            "text/plain": [
              "(tensor([[0, 1, 2]]), tensor([[3, 4, 5]]), tensor([[6, 7, 8]]))"
            ]
          },
          "metadata": {},
          "execution_count": 145
        }
      ]
    },
    {
      "cell_type": "code",
      "source": [
        "q = torch.randn(10, 4, 5)\n",
        "print(q)"
      ],
      "metadata": {
        "colab": {
          "base_uri": "https://localhost:8080/"
        },
        "id": "xznTLDah69PQ",
        "outputId": "33c996f1-ab9b-40d2-c134-653ecfe9a5df"
      },
      "execution_count": 146,
      "outputs": [
        {
          "output_type": "stream",
          "name": "stdout",
          "text": [
            "tensor([[[ 0.6581, -0.1506, -0.4327, -1.2448, -0.0166],\n",
            "         [-0.4183, -0.6124,  0.0404, -0.2368,  0.4345],\n",
            "         [-0.6389, -0.6206, -0.2072, -1.1464, -0.0804],\n",
            "         [-2.2217,  0.6518, -0.9783, -0.0581, -0.2516]],\n",
            "\n",
            "        [[-0.0360, -0.4132,  0.0161,  0.0707,  0.6712],\n",
            "         [ 1.4064, -0.3066, -0.0086, -0.4114, -0.5606],\n",
            "         [-2.0098, -0.4999,  0.3144, -0.7736, -1.0051],\n",
            "         [-1.3375,  0.7166, -0.4955,  1.4234, -0.2805]],\n",
            "\n",
            "        [[-1.2910, -0.1800, -0.9751, -0.2938,  0.4948],\n",
            "         [-1.6103,  1.1321,  0.1274,  0.7314,  0.4981],\n",
            "         [ 1.8640,  0.5131,  0.5381,  2.0679,  1.2200],\n",
            "         [-0.5029,  0.5076, -0.9129, -0.4980,  0.2767]],\n",
            "\n",
            "        [[ 0.8329, -0.0515,  0.4047, -1.1406, -0.4759],\n",
            "         [-0.5143, -0.1133,  0.8626,  0.8621, -0.0034],\n",
            "         [ 0.4334, -0.2761,  0.8800,  0.1002, -0.0058],\n",
            "         [ 3.0303, -0.7131,  0.1368,  1.1927,  1.2282]],\n",
            "\n",
            "        [[ 0.9137,  0.7381,  0.4148, -0.7246,  1.8533],\n",
            "         [-0.4255, -0.6329,  0.2022,  0.2269, -1.5950],\n",
            "         [ 0.8594,  1.2985,  0.5154, -0.2987,  0.4768],\n",
            "         [-0.5443,  0.7736,  0.1060,  0.5819,  1.3674]],\n",
            "\n",
            "        [[ 1.3832,  1.8597,  0.1167, -1.6374,  0.6896],\n",
            "         [ 1.7248,  0.1284,  1.9037,  0.0803,  0.4671],\n",
            "         [ 0.0663,  0.1436, -0.3184,  0.5818, -0.5712],\n",
            "         [ 0.6867, -0.8053, -1.4926,  0.3028,  2.4095]],\n",
            "\n",
            "        [[-0.2016,  0.3549, -0.7201, -0.6913, -1.1164],\n",
            "         [ 0.5419,  0.1691, -0.3929,  0.9277,  1.3530],\n",
            "         [ 1.2980,  0.8072, -0.5893, -0.9920, -0.3518],\n",
            "         [ 0.2706, -1.1418,  0.4939, -0.2199, -0.2296]],\n",
            "\n",
            "        [[-0.0842,  1.4560,  1.1170,  1.6297, -0.5029],\n",
            "         [-0.3977, -0.9372,  0.6199,  1.3953,  0.3467],\n",
            "         [ 0.4285, -0.5207,  0.0795,  1.0144,  0.3817],\n",
            "         [ 0.8947, -0.1603,  2.0041, -0.5429, -1.1907]],\n",
            "\n",
            "        [[-0.6269,  0.5280, -0.6612,  1.8704, -0.1837],\n",
            "         [ 1.7990,  0.2911, -0.0630, -0.6181, -0.6380],\n",
            "         [-0.9014, -0.4201, -1.7876, -0.0839,  2.0241],\n",
            "         [-0.7157, -0.3183,  0.1132, -0.7699,  0.2859]],\n",
            "\n",
            "        [[ 0.7868, -0.7274, -0.5888, -0.9430, -1.1567],\n",
            "         [ 0.0663,  0.3099,  2.5676, -1.8624,  0.2625],\n",
            "         [-0.2366,  0.8727, -0.0591,  1.2599, -0.1496],\n",
            "         [-1.2811,  0.6125, -1.5961,  0.6144,  0.2122]]])\n"
          ]
        }
      ]
    },
    {
      "cell_type": "code",
      "source": [
        "# Usando máscaras para busca no tensor\n",
        "indices = torch.LongTensor([1, 2])\n",
        "torch.index_select(q, 1, indices)\n",
        "# Seleciona elementos de índice 1 e 2 para cada dimensão 1."
      ],
      "metadata": {
        "colab": {
          "base_uri": "https://localhost:8080/"
        },
        "id": "6LpUt75t7AkJ",
        "outputId": "37659c4d-a628-459e-e35a-39eef96bb08a"
      },
      "execution_count": 147,
      "outputs": [
        {
          "output_type": "execute_result",
          "data": {
            "text/plain": [
              "tensor([[[-0.4183, -0.6124,  0.0404, -0.2368,  0.4345],\n",
              "         [-0.6389, -0.6206, -0.2072, -1.1464, -0.0804]],\n",
              "\n",
              "        [[ 1.4064, -0.3066, -0.0086, -0.4114, -0.5606],\n",
              "         [-2.0098, -0.4999,  0.3144, -0.7736, -1.0051]],\n",
              "\n",
              "        [[-1.6103,  1.1321,  0.1274,  0.7314,  0.4981],\n",
              "         [ 1.8640,  0.5131,  0.5381,  2.0679,  1.2200]],\n",
              "\n",
              "        [[-0.5143, -0.1133,  0.8626,  0.8621, -0.0034],\n",
              "         [ 0.4334, -0.2761,  0.8800,  0.1002, -0.0058]],\n",
              "\n",
              "        [[-0.4255, -0.6329,  0.2022,  0.2269, -1.5950],\n",
              "         [ 0.8594,  1.2985,  0.5154, -0.2987,  0.4768]],\n",
              "\n",
              "        [[ 1.7248,  0.1284,  1.9037,  0.0803,  0.4671],\n",
              "         [ 0.0663,  0.1436, -0.3184,  0.5818, -0.5712]],\n",
              "\n",
              "        [[ 0.5419,  0.1691, -0.3929,  0.9277,  1.3530],\n",
              "         [ 1.2980,  0.8072, -0.5893, -0.9920, -0.3518]],\n",
              "\n",
              "        [[-0.3977, -0.9372,  0.6199,  1.3953,  0.3467],\n",
              "         [ 0.4285, -0.5207,  0.0795,  1.0144,  0.3817]],\n",
              "\n",
              "        [[ 1.7990,  0.2911, -0.0630, -0.6181, -0.6380],\n",
              "         [-0.9014, -0.4201, -1.7876, -0.0839,  2.0241]],\n",
              "\n",
              "        [[ 0.0663,  0.3099,  2.5676, -1.8624,  0.2625],\n",
              "         [-0.2366,  0.8727, -0.0591,  1.2599, -0.1496]]])"
            ]
          },
          "metadata": {},
          "execution_count": 147
        }
      ]
    },
    {
      "cell_type": "code",
      "source": [
        "# Squeeze\n",
        "t = torch.ones(2,1,2,1)  # Size 2x1x2x1\n",
        "r = torch.squeeze(t)     # Size 2x2\n",
        "p = torch.squeeze(t, 1)  # Squeeze pela dimensão 1: Size 2x2x1\n",
        "print(t)\n",
        "print(t.dim())\n",
        "print(t.shape)\n",
        "print(\"\\n\")\n",
        "print(r)\n",
        "print(r.dim())\n",
        "print(r.shape)\n",
        "print(\"\\n\")\n",
        "print(p)\n",
        "print(p.dim())\n",
        "print(p.shape)"
      ],
      "metadata": {
        "colab": {
          "base_uri": "https://localhost:8080/"
        },
        "id": "sO9y0g9W7HbZ",
        "outputId": "cd2d645a-2eb7-4f14-8e49-3d89ba4b7c2c"
      },
      "execution_count": 148,
      "outputs": [
        {
          "output_type": "stream",
          "name": "stdout",
          "text": [
            "tensor([[[[1.],\n",
            "          [1.]]],\n",
            "\n",
            "\n",
            "        [[[1.],\n",
            "          [1.]]]])\n",
            "4\n",
            "torch.Size([2, 1, 2, 1])\n",
            "\n",
            "\n",
            "tensor([[1., 1.],\n",
            "        [1., 1.]])\n",
            "2\n",
            "torch.Size([2, 2])\n",
            "\n",
            "\n",
            "tensor([[[1.],\n",
            "         [1.]],\n",
            "\n",
            "        [[1.],\n",
            "         [1.]]])\n",
            "3\n",
            "torch.Size([2, 2, 1])\n"
          ]
        }
      ]
    },
    {
      "cell_type": "code",
      "source": [
        "# Unsqueeze\n",
        "u = torch.Tensor([1, 2, 3])\n",
        "s = torch.unsqueeze(u, 0)       # Size: 1x3\n",
        "w = torch.unsqueeze(u, 1)       # Size: 3x1\n",
        "print(u)\n",
        "print(u.dim())\n",
        "print(u.shape)\n",
        "print(\"\\n\")\n",
        "print(s)\n",
        "print(s.dim())\n",
        "print(s.shape)\n",
        "print(\"\\n\")\n",
        "print(w)\n",
        "print(w.dim())\n",
        "print(w.shape)"
      ],
      "metadata": {
        "colab": {
          "base_uri": "https://localhost:8080/"
        },
        "id": "T0aNJjBP7XmB",
        "outputId": "7802f08a-71f7-43b1-e46e-ef72862ebc41"
      },
      "execution_count": 149,
      "outputs": [
        {
          "output_type": "stream",
          "name": "stdout",
          "text": [
            "tensor([1., 2., 3.])\n",
            "1\n",
            "torch.Size([3])\n",
            "\n",
            "\n",
            "tensor([[1., 2., 3.]])\n",
            "2\n",
            "torch.Size([1, 3])\n",
            "\n",
            "\n",
            "tensor([[1.],\n",
            "        [2.],\n",
            "        [3.]])\n",
            "2\n",
            "torch.Size([3, 1])\n"
          ]
        }
      ]
    },
    {
      "cell_type": "markdown",
      "source": [
        "#DISTRIBUIÇÕES ESTATICAS NO PyTorch\n",
        "---"
      ],
      "metadata": {
        "id": "nfAQl1I27ema"
      }
    },
    {
      "cell_type": "code",
      "source": [
        "# Distribuição Uniforme Para Matriz com Range (0, 1)\n",
        "torch.Tensor(2, 2).uniform_(0, 1)"
      ],
      "metadata": {
        "colab": {
          "base_uri": "https://localhost:8080/"
        },
        "id": "7UVt0wiL7olc",
        "outputId": "6dbb9c3b-379c-48d4-b355-b96cc1035256"
      },
      "execution_count": 150,
      "outputs": [
        {
          "output_type": "execute_result",
          "data": {
            "text/plain": [
              "tensor([[0.5894, 0.9065],\n",
              "        [0.8143, 0.4760]])"
            ]
          },
          "metadata": {},
          "execution_count": 150
        }
      ]
    },
    {
      "cell_type": "code",
      "source": [
        "# Distribuição de Bernoulli\n",
        "torch.bernoulli(r)"
      ],
      "metadata": {
        "colab": {
          "base_uri": "https://localhost:8080/"
        },
        "id": "qxijGsul7urp",
        "outputId": "ef62e605-b9b6-4ac2-a9c5-caf89036b394"
      },
      "execution_count": 151,
      "outputs": [
        {
          "output_type": "execute_result",
          "data": {
            "text/plain": [
              "tensor([[1., 1.],\n",
              "        [1., 1.]])"
            ]
          },
          "metadata": {},
          "execution_count": 151
        }
      ]
    },
    {
      "cell_type": "code",
      "source": [
        "# Distribuição Multinomial\n",
        "w = torch.Tensor([0, 4, 8, 2])\n",
        "torch.multinomial(w, 4, replacement = True)"
      ],
      "metadata": {
        "colab": {
          "base_uri": "https://localhost:8080/"
        },
        "id": "2ZpIoo8x7x35",
        "outputId": "05e387cd-46f4-4cab-fa91-bb017f75e80c"
      },
      "execution_count": 152,
      "outputs": [
        {
          "output_type": "execute_result",
          "data": {
            "text/plain": [
              "tensor([1, 1, 1, 2])"
            ]
          },
          "metadata": {},
          "execution_count": 152
        }
      ]
    },
    {
      "cell_type": "code",
      "source": [
        "# Distribuição Normal\n",
        "import torch.distributions as tdist\n",
        "dist = tdist.Normal(torch.tensor([1.0]), torch.tensor([0.001]))\n",
        "amostra = dist.sample((100,))\n",
        "print(amostra.dim())\n",
        "print(amostra)"
      ],
      "metadata": {
        "colab": {
          "base_uri": "https://localhost:8080/"
        },
        "id": "aXtBCEVk714A",
        "outputId": "b966fc81-59d0-40a2-d782-4f08e5a07f36"
      },
      "execution_count": 153,
      "outputs": [
        {
          "output_type": "stream",
          "name": "stdout",
          "text": [
            "2\n",
            "tensor([[1.0012],\n",
            "        [0.9998],\n",
            "        [0.9986],\n",
            "        [1.0003],\n",
            "        [0.9984],\n",
            "        [0.9980],\n",
            "        [1.0013],\n",
            "        [0.9976],\n",
            "        [1.0011],\n",
            "        [0.9992],\n",
            "        [1.0006],\n",
            "        [0.9975],\n",
            "        [0.9997],\n",
            "        [0.9994],\n",
            "        [1.0018],\n",
            "        [0.9997],\n",
            "        [0.9994],\n",
            "        [1.0001],\n",
            "        [1.0011],\n",
            "        [1.0023],\n",
            "        [0.9987],\n",
            "        [1.0001],\n",
            "        [0.9996],\n",
            "        [0.9994],\n",
            "        [1.0002],\n",
            "        [0.9997],\n",
            "        [0.9975],\n",
            "        [0.9981],\n",
            "        [1.0025],\n",
            "        [1.0004],\n",
            "        [0.9992],\n",
            "        [1.0010],\n",
            "        [0.9997],\n",
            "        [0.9980],\n",
            "        [1.0009],\n",
            "        [1.0002],\n",
            "        [0.9987],\n",
            "        [1.0004],\n",
            "        [1.0007],\n",
            "        [0.9984],\n",
            "        [0.9986],\n",
            "        [0.9999],\n",
            "        [0.9999],\n",
            "        [1.0003],\n",
            "        [1.0006],\n",
            "        [0.9998],\n",
            "        [0.9997],\n",
            "        [1.0005],\n",
            "        [0.9994],\n",
            "        [0.9999],\n",
            "        [1.0020],\n",
            "        [0.9991],\n",
            "        [0.9985],\n",
            "        [0.9990],\n",
            "        [1.0013],\n",
            "        [1.0004],\n",
            "        [1.0011],\n",
            "        [1.0018],\n",
            "        [1.0004],\n",
            "        [1.0001],\n",
            "        [1.0011],\n",
            "        [1.0013],\n",
            "        [1.0009],\n",
            "        [1.0003],\n",
            "        [0.9997],\n",
            "        [1.0019],\n",
            "        [1.0008],\n",
            "        [0.9989],\n",
            "        [1.0007],\n",
            "        [0.9999],\n",
            "        [1.0007],\n",
            "        [0.9987],\n",
            "        [1.0020],\n",
            "        [1.0003],\n",
            "        [0.9984],\n",
            "        [0.9994],\n",
            "        [0.9989],\n",
            "        [1.0002],\n",
            "        [0.9996],\n",
            "        [0.9987],\n",
            "        [1.0002],\n",
            "        [1.0017],\n",
            "        [1.0022],\n",
            "        [1.0009],\n",
            "        [1.0012],\n",
            "        [0.9992],\n",
            "        [1.0013],\n",
            "        [1.0025],\n",
            "        [1.0000],\n",
            "        [1.0003],\n",
            "        [0.9993],\n",
            "        [1.0008],\n",
            "        [1.0009],\n",
            "        [1.0001],\n",
            "        [0.9984],\n",
            "        [0.9993],\n",
            "        [1.0013],\n",
            "        [0.9995],\n",
            "        [1.0000],\n",
            "        [1.0007]])\n"
          ]
        }
      ]
    },
    {
      "cell_type": "code",
      "source": [
        "type(amostra)\n"
      ],
      "metadata": {
        "colab": {
          "base_uri": "https://localhost:8080/"
        },
        "id": "ZaTaEQLp77mR",
        "outputId": "4ee66dcd-4349-4381-defe-6c5e8b5f4ace"
      },
      "execution_count": 154,
      "outputs": [
        {
          "output_type": "execute_result",
          "data": {
            "text/plain": [
              "torch.Tensor"
            ]
          },
          "metadata": {},
          "execution_count": 154
        }
      ]
    },
    {
      "cell_type": "code",
      "source": [
        "# Convertemos o array em um vetor\n",
        "elementos = amostra.numpy().flatten()\n",
        "elementos"
      ],
      "metadata": {
        "colab": {
          "base_uri": "https://localhost:8080/"
        },
        "id": "mDbjF44N7_5I",
        "outputId": "f94dacad-5368-4444-9135-57304acdbdca"
      },
      "execution_count": 155,
      "outputs": [
        {
          "output_type": "execute_result",
          "data": {
            "text/plain": [
              "array([1.001248  , 0.9997578 , 0.99859786, 1.0003089 , 0.9983747 ,\n",
              "       0.998047  , 1.001323  , 0.9975767 , 1.0010782 , 0.99924016,\n",
              "       1.0006348 , 0.9975469 , 0.99968547, 0.99939394, 1.001761  ,\n",
              "       0.9997266 , 0.9994334 , 1.0001258 , 1.0010669 , 1.0022868 ,\n",
              "       0.99865335, 1.0000907 , 0.9995516 , 0.9994419 , 1.0001968 ,\n",
              "       0.9996638 , 0.99749345, 0.9981208 , 1.002531  , 1.0004445 ,\n",
              "       0.99917525, 1.0009819 , 0.9997194 , 0.9979755 , 1.0009431 ,\n",
              "       1.0002133 , 0.99870723, 1.0003743 , 1.0007164 , 0.998405  ,\n",
              "       0.99860907, 0.9998676 , 0.9999297 , 1.0002692 , 1.0005952 ,\n",
              "       0.99975365, 0.9996789 , 1.0005044 , 0.99941164, 0.99994045,\n",
              "       1.0020261 , 0.99905455, 0.9984726 , 0.99899846, 1.0013032 ,\n",
              "       1.0003669 , 1.0011219 , 1.001759  , 1.0004002 , 1.000093  ,\n",
              "       1.0010843 , 1.0013472 , 1.0008922 , 1.0002531 , 0.9996902 ,\n",
              "       1.0019006 , 1.0007981 , 0.99887794, 1.0006757 , 0.9999373 ,\n",
              "       1.0006659 , 0.9987032 , 1.0020329 , 1.0002999 , 0.99839956,\n",
              "       0.99942493, 0.998935  , 1.0001838 , 0.9995967 , 0.9987023 ,\n",
              "       1.0001956 , 1.0017375 , 1.002227  , 1.000855  , 1.0012268 ,\n",
              "       0.99924564, 1.0013162 , 1.0025063 , 0.9999808 , 1.00032   ,\n",
              "       0.9992946 , 1.0007801 , 1.0009477 , 1.00009   , 0.99836177,\n",
              "       0.99931854, 1.0012553 , 0.9994861 , 0.9999808 , 1.0006744 ],\n",
              "      dtype=float32)"
            ]
          },
          "metadata": {},
          "execution_count": 155
        }
      ]
    },
    {
      "cell_type": "code",
      "source": [
        "import matplotlib.pyplot as plt\n"
      ],
      "metadata": {
        "id": "_xTiZWgQ8Jx1"
      },
      "execution_count": 157,
      "outputs": []
    },
    {
      "cell_type": "code",
      "source": [
        "# Histograma\n",
        "plt.hist(elementos)"
      ],
      "metadata": {
        "colab": {
          "base_uri": "https://localhost:8080/",
          "height": 517
        },
        "id": "4FiYmjeS8BtT",
        "outputId": "51989f9f-4833-45d7-bc17-1c71801fa51c"
      },
      "execution_count": 158,
      "outputs": [
        {
          "output_type": "execute_result",
          "data": {
            "text/plain": [
              "(array([ 4.,  7.,  9., 12., 16., 18., 13., 11.,  5.,  5.]),\n",
              " array([0.99749345, 0.99799722, 0.99850094, 0.99900472, 0.9995085 ,\n",
              "        1.00001228, 1.00051606, 1.00101972, 1.00152349, 1.00202727,\n",
              "        1.00253105]),\n",
              " <BarContainer object of 10 artists>)"
            ]
          },
          "metadata": {},
          "execution_count": 158
        },
        {
          "output_type": "display_data",
          "data": {
            "text/plain": [
              "<Figure size 640x480 with 1 Axes>"
            ],
            "image/png": "[encoded data removed]"
          },
          "metadata": {}
        }
      ]
    },
    {
      "cell_type": "code",
      "source": [],
      "metadata": {
        "id": "lxaYqA-R8IvO"
      },
      "execution_count": null,
      "outputs": []
    }
  ],
  "metadata": {
    "colab": {
      "provenance": [],
      "authorship_tag": "ABX9TyN4x/O1CGc8jGjewHsjmNIY",
      "include_colab_link": true
    },
    "kernelspec": {
      "display_name": "Python 3",
      "name": "python3"
    },
    "language_info": {
      "name": "python"
    }
  },
  "nbformat": 4,
  "nbformat_minor": 0
}